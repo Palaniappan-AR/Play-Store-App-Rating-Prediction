{
 "cells": [
  {
   "cell_type": "markdown",
   "id": "7489a517",
   "metadata": {},
   "source": [
    "### <b>**Regression** </b>"
   ]
  },
  {
   "cell_type": "markdown",
   "id": "0f843b93",
   "metadata": {},
   "source": [
    "### **Agenda**"
   ]
  },
  {
   "cell_type": "markdown",
   "id": "94baaac1",
   "metadata": {},
   "source": [
    "we will cover the following concepts with the help of a business use case:\n",
    "* Use Case: Regression\n",
    "* Regression Algorithms\n",
    "* Types of Model Evaluation Metrics"
   ]
  },
  {
   "cell_type": "markdown",
   "id": "95bb40f8",
   "metadata": {},
   "source": [
    "### **Use Case: Regression**\n",
    "\n",
    "Note: At first, with the help of a use case, we are going to perform all the basic steps to reach the model training and predicition part.\n",
    "  "
   ]
  },
  {
   "cell_type": "markdown",
   "id": "046c6c53",
   "metadata": {},
   "source": [
    "#### <b> **Problem Statement:** </b>"
   ]
  },
  {
   "cell_type": "markdown",
   "id": "d1a83de7",
   "metadata": {},
   "source": [
    "Google Play Store team is about to launch a new feature wherein, certain apps that are promising are boosted in visibility. The boost will manifest in multiple ways including higher priority in recommendations sections (“Similar apps”, “You might also like”, “New and updated games”). These will also get a boost in search results visibility.  This feature will help bring more attention to newer apps that have the potential."
   ]
  },
  {
   "cell_type": "markdown",
   "id": "4aa7c29c",
   "metadata": {},
   "source": [
    "#### <b> **Analysis to be done:** </b>\n",
    "\n",
    "The problem is to identify the apps that are going to be good for Google to promote. App ratings, which are provided by the customers, are always great indicators of the goodness of the app. The problem reduces to: predict which apps will have high ratings."
   ]
  },
  {
   "cell_type": "markdown",
   "id": "8bf04c65",
   "metadata": {},
   "source": [
    "#### <b> **Data Dictionary:**</b>"
   ]
  },
  {
   "cell_type": "markdown",
   "id": "183ad904",
   "metadata": {},
   "source": [
    "|Variables|Description|\n",
    "|:-|:-|\n",
    "|App| Application name|\n",
    "|Category|Category to which the app belongs|\n",
    "|Rating|Overall user rating of the app|\n",
    "|Reviews|Number of user reviews for the app|\n",
    "|Size|Size of the app|\n",
    "|Installs|Number of user downloads/installs for the app|\n",
    "|Type|Paid or Free|\n",
    "|Price|Price of the app|\n",
    "|Content Rating|Age group the app is targeted at - Children / Mature 21+ / Adult|\n",
    "|Genres|An app can belong to multiple genres (apart from its main category)<br>For example, a musical family game will belong to Music, Game, Family genres|\n",
    "|Last Updated|Date when the app was last updated on Play Store|\n",
    "|Current Ver|Current version of the app available on Play Store|\n",
    "|Android Ver|Minimum required Android version|"
   ]
  },
  {
   "cell_type": "markdown",
   "id": "f8e5dfab",
   "metadata": {},
   "source": [
    "**Let's Start!!**"
   ]
  },
  {
   "cell_type": "markdown",
   "id": "0f81295b",
   "metadata": {},
   "source": [
    "#### <b> **Import Libraries**</b>"
   ]
  },
  {
   "cell_type": "code",
   "execution_count": 1,
   "id": "660a2572",
   "metadata": {},
   "outputs": [],
   "source": [
    "#Importing libraries\n",
    "import pandas as pd\n",
    "import numpy as np\n",
    "import matplotlib.pyplot as plt, seaborn as sns\n",
    "%matplotlib inline"
   ]
  },
  {
   "cell_type": "markdown",
   "id": "44ff9835",
   "metadata": {},
   "source": [
    "#### <b> **Import and Check Dataset**</b>"
   ]
  },
  {
   "cell_type": "code",
   "execution_count": 2,
   "id": "52cc9006",
   "metadata": {},
   "outputs": [],
   "source": [
    "df = pd.read_csv(\"googleplaystore.csv\")"
   ]
  },
  {
   "cell_type": "code",
   "execution_count": 3,
   "id": "13e30b3d",
   "metadata": {
    "scrolled": true
   },
   "outputs": [
    {
     "data": {
      "text/html": [
       "<div>\n",
       "<style scoped>\n",
       "    .dataframe tbody tr th:only-of-type {\n",
       "        vertical-align: middle;\n",
       "    }\n",
       "\n",
       "    .dataframe tbody tr th {\n",
       "        vertical-align: top;\n",
       "    }\n",
       "\n",
       "    .dataframe thead th {\n",
       "        text-align: right;\n",
       "    }\n",
       "</style>\n",
       "<table border=\"1\" class=\"dataframe\">\n",
       "  <thead>\n",
       "    <tr style=\"text-align: right;\">\n",
       "      <th></th>\n",
       "      <th>App</th>\n",
       "      <th>Category</th>\n",
       "      <th>Rating</th>\n",
       "      <th>Reviews</th>\n",
       "      <th>Size</th>\n",
       "      <th>Installs</th>\n",
       "      <th>Type</th>\n",
       "      <th>Price</th>\n",
       "      <th>Content_Rating</th>\n",
       "      <th>Genres</th>\n",
       "      <th>Last Updated</th>\n",
       "      <th>Current Ver</th>\n",
       "      <th>Android Ver</th>\n",
       "    </tr>\n",
       "  </thead>\n",
       "  <tbody>\n",
       "    <tr>\n",
       "      <th>0</th>\n",
       "      <td>Photo Editor &amp; Candy Camera &amp; Grid &amp; ScrapBook</td>\n",
       "      <td>ART_AND_DESIGN</td>\n",
       "      <td>4.1</td>\n",
       "      <td>159</td>\n",
       "      <td>19M</td>\n",
       "      <td>10,000+</td>\n",
       "      <td>Free</td>\n",
       "      <td>0</td>\n",
       "      <td>Everyone</td>\n",
       "      <td>Art_&amp;_Design</td>\n",
       "      <td>January 7, 2018</td>\n",
       "      <td>1.0.0</td>\n",
       "      <td>4.0.3 and up</td>\n",
       "    </tr>\n",
       "    <tr>\n",
       "      <th>1</th>\n",
       "      <td>Coloring book moana</td>\n",
       "      <td>ART_AND_DESIGN</td>\n",
       "      <td>3.9</td>\n",
       "      <td>967</td>\n",
       "      <td>14M</td>\n",
       "      <td>500,000+</td>\n",
       "      <td>Free</td>\n",
       "      <td>0</td>\n",
       "      <td>Everyone</td>\n",
       "      <td>Art_&amp;_Design_Pretend_Play</td>\n",
       "      <td>January 15, 2018</td>\n",
       "      <td>2.0.0</td>\n",
       "      <td>4.0.3 and up</td>\n",
       "    </tr>\n",
       "    <tr>\n",
       "      <th>2</th>\n",
       "      <td>U Launcher Lite – FREE Live Cool Themes, Hide ...</td>\n",
       "      <td>ART_AND_DESIGN</td>\n",
       "      <td>4.7</td>\n",
       "      <td>87510</td>\n",
       "      <td>8.7M</td>\n",
       "      <td>5,000,000+</td>\n",
       "      <td>Free</td>\n",
       "      <td>0</td>\n",
       "      <td>Everyone</td>\n",
       "      <td>Art_&amp;_Design</td>\n",
       "      <td>August 1, 2018</td>\n",
       "      <td>1.2.4</td>\n",
       "      <td>4.0.3 and up</td>\n",
       "    </tr>\n",
       "    <tr>\n",
       "      <th>3</th>\n",
       "      <td>Sketch - Draw &amp; Paint</td>\n",
       "      <td>ART_AND_DESIGN</td>\n",
       "      <td>4.5</td>\n",
       "      <td>215644</td>\n",
       "      <td>25M</td>\n",
       "      <td>50,000,000+</td>\n",
       "      <td>Free</td>\n",
       "      <td>0</td>\n",
       "      <td>Teen</td>\n",
       "      <td>Art_&amp;_Design</td>\n",
       "      <td>June 8, 2018</td>\n",
       "      <td>Varies with device</td>\n",
       "      <td>4.2 and up</td>\n",
       "    </tr>\n",
       "    <tr>\n",
       "      <th>4</th>\n",
       "      <td>Pixel Draw - Number Art Coloring Book</td>\n",
       "      <td>ART_AND_DESIGN</td>\n",
       "      <td>4.3</td>\n",
       "      <td>967</td>\n",
       "      <td>2.8M</td>\n",
       "      <td>100,000+</td>\n",
       "      <td>Free</td>\n",
       "      <td>0</td>\n",
       "      <td>Everyone</td>\n",
       "      <td>Art_&amp;_Design_Creativity</td>\n",
       "      <td>June 20, 2018</td>\n",
       "      <td>1.1</td>\n",
       "      <td>4.4 and up</td>\n",
       "    </tr>\n",
       "  </tbody>\n",
       "</table>\n",
       "</div>"
      ],
      "text/plain": [
       "                                                 App        Category  Rating  \\\n",
       "0     Photo Editor & Candy Camera & Grid & ScrapBook  ART_AND_DESIGN     4.1   \n",
       "1                                Coloring book moana  ART_AND_DESIGN     3.9   \n",
       "2  U Launcher Lite – FREE Live Cool Themes, Hide ...  ART_AND_DESIGN     4.7   \n",
       "3                              Sketch - Draw & Paint  ART_AND_DESIGN     4.5   \n",
       "4              Pixel Draw - Number Art Coloring Book  ART_AND_DESIGN     4.3   \n",
       "\n",
       "  Reviews  Size     Installs  Type Price Content_Rating  \\\n",
       "0     159   19M      10,000+  Free     0       Everyone   \n",
       "1     967   14M     500,000+  Free     0       Everyone   \n",
       "2   87510  8.7M   5,000,000+  Free     0       Everyone   \n",
       "3  215644   25M  50,000,000+  Free     0           Teen   \n",
       "4     967  2.8M     100,000+  Free     0       Everyone   \n",
       "\n",
       "                      Genres      Last Updated         Current Ver  \\\n",
       "0               Art_&_Design   January 7, 2018               1.0.0   \n",
       "1  Art_&_Design_Pretend_Play  January 15, 2018               2.0.0   \n",
       "2               Art_&_Design    August 1, 2018               1.2.4   \n",
       "3               Art_&_Design      June 8, 2018  Varies with device   \n",
       "4    Art_&_Design_Creativity     June 20, 2018                 1.1   \n",
       "\n",
       "    Android Ver  \n",
       "0  4.0.3 and up  \n",
       "1  4.0.3 and up  \n",
       "2  4.0.3 and up  \n",
       "3    4.2 and up  \n",
       "4    4.4 and up  "
      ]
     },
     "execution_count": 3,
     "metadata": {},
     "output_type": "execute_result"
    }
   ],
   "source": [
    "# Check first five rows\n",
    "df.head()"
   ]
  },
  {
   "cell_type": "markdown",
   "id": "dc3cf549",
   "metadata": {},
   "source": [
    "#### <b> Observations </b>\n",
    "The data will be displayed on the screen."
   ]
  },
  {
   "cell_type": "code",
   "execution_count": 4,
   "id": "7945d86a",
   "metadata": {
    "scrolled": true
   },
   "outputs": [
    {
     "name": "stdout",
     "output_type": "stream",
     "text": [
      "<class 'pandas.core.frame.DataFrame'>\n",
      "RangeIndex: 10841 entries, 0 to 10840\n",
      "Data columns (total 13 columns):\n",
      " #   Column          Non-Null Count  Dtype  \n",
      "---  ------          --------------  -----  \n",
      " 0   App             10841 non-null  object \n",
      " 1   Category        10841 non-null  object \n",
      " 2   Rating          9367 non-null   float64\n",
      " 3   Reviews         10841 non-null  object \n",
      " 4   Size            10841 non-null  object \n",
      " 5   Installs        10841 non-null  object \n",
      " 6   Type            10840 non-null  object \n",
      " 7   Price           10841 non-null  object \n",
      " 8   Content_Rating  10840 non-null  object \n",
      " 9   Genres          10841 non-null  object \n",
      " 10  Last Updated    10841 non-null  object \n",
      " 11  Current Ver     10833 non-null  object \n",
      " 12  Android Ver     10838 non-null  object \n",
      "dtypes: float64(1), object(12)\n",
      "memory usage: 1.1+ MB\n"
     ]
    }
   ],
   "source": [
    "#Check number of columns and rows, and data types\n",
    "df.info()"
   ]
  },
  {
   "cell_type": "markdown",
   "id": "9c10ced8",
   "metadata": {},
   "source": [
    "#### <b> **Check Data Types**</b>"
   ]
  },
  {
   "cell_type": "code",
   "execution_count": 5,
   "id": "151c6e07",
   "metadata": {},
   "outputs": [
    {
     "data": {
      "text/plain": [
       "App                object\n",
       "Category           object\n",
       "Rating            float64\n",
       "Reviews            object\n",
       "Size               object\n",
       "Installs           object\n",
       "Type               object\n",
       "Price              object\n",
       "Content_Rating     object\n",
       "Genres             object\n",
       "Last Updated       object\n",
       "Current Ver        object\n",
       "Android Ver        object\n",
       "dtype: object"
      ]
     },
     "execution_count": 5,
     "metadata": {},
     "output_type": "execute_result"
    }
   ],
   "source": [
    "#checking datatypes\n",
    "df.dtypes"
   ]
  },
  {
   "cell_type": "markdown",
   "id": "4386aa0c",
   "metadata": {},
   "source": [
    "#### <b> **Finding and Treating Null Values**</b>"
   ]
  },
  {
   "cell_type": "code",
   "execution_count": 6,
   "id": "4c05d345",
   "metadata": {},
   "outputs": [
    {
     "data": {
      "text/plain": [
       "App                  0\n",
       "Category             0\n",
       "Rating            1474\n",
       "Reviews              0\n",
       "Size                 0\n",
       "Installs             0\n",
       "Type                 1\n",
       "Price                0\n",
       "Content_Rating       1\n",
       "Genres               0\n",
       "Last Updated         0\n",
       "Current Ver          8\n",
       "Android Ver          3\n",
       "dtype: int64"
      ]
     },
     "execution_count": 6,
     "metadata": {},
     "output_type": "execute_result"
    }
   ],
   "source": [
    "#Finding count of null values\n",
    "df.isnull().sum()"
   ]
  },
  {
   "cell_type": "code",
   "execution_count": 7,
   "id": "902fc54e",
   "metadata": {},
   "outputs": [],
   "source": [
    "#Dropping the records with null ratings\n",
    "#This is done because ratings is our target variable\n",
    "df.dropna(inplace = True)"
   ]
  },
  {
   "cell_type": "code",
   "execution_count": 8,
   "id": "3d196af8",
   "metadata": {},
   "outputs": [
    {
     "data": {
      "text/plain": [
       "App               0\n",
       "Category          0\n",
       "Rating            0\n",
       "Reviews           0\n",
       "Size              0\n",
       "Installs          0\n",
       "Type              0\n",
       "Price             0\n",
       "Content_Rating    0\n",
       "Genres            0\n",
       "Last Updated      0\n",
       "Current Ver       0\n",
       "Android Ver       0\n",
       "dtype: int64"
      ]
     },
     "execution_count": 8,
     "metadata": {},
     "output_type": "execute_result"
    }
   ],
   "source": [
    "df.isnull().sum()"
   ]
  },
  {
   "cell_type": "code",
   "execution_count": 9,
   "id": "aa341c65",
   "metadata": {
    "scrolled": true
   },
   "outputs": [
    {
     "data": {
      "text/plain": [
       "(9360, 13)"
      ]
     },
     "execution_count": 9,
     "metadata": {},
     "output_type": "execute_result"
    }
   ],
   "source": [
    "df.shape"
   ]
  },
  {
   "cell_type": "markdown",
   "id": "aa9c9462",
   "metadata": {},
   "source": [
    "#### <b> Handling the Variables </b>"
   ]
  },
  {
   "cell_type": "markdown",
   "id": "2cd2c96e",
   "metadata": {},
   "source": [
    "**1. Clean the price column**"
   ]
  },
  {
   "cell_type": "code",
   "execution_count": 10,
   "id": "8100ef87",
   "metadata": {},
   "outputs": [
    {
     "data": {
      "text/plain": [
       "0        8715\n",
       "$2.99     114\n",
       "$0.99     106\n",
       "$4.99      70\n",
       "$1.99      59\n",
       "Name: Price, dtype: int64"
      ]
     },
     "execution_count": 10,
     "metadata": {},
     "output_type": "execute_result"
    }
   ],
   "source": [
    "#Cleaning the price column\n",
    "df.Price.value_counts()[:5]"
   ]
  },
  {
   "cell_type": "code",
   "execution_count": 11,
   "id": "52979d02",
   "metadata": {
    "scrolled": true
   },
   "outputs": [
    {
     "data": {
      "text/plain": [
       "dtype('O')"
      ]
     },
     "execution_count": 11,
     "metadata": {},
     "output_type": "execute_result"
    }
   ],
   "source": [
    "df['Price'].dtype"
   ]
  },
  {
   "cell_type": "markdown",
   "id": "522a2816",
   "metadata": {},
   "source": [
    "#### <b> Observations </b>\n",
    "Some have dollars, some have 0\n",
    "* We need to conditionally handle this.\n",
    "* First, let's modify the column to take 0 if value is 0, else take the first letter onwards."
   ]
  },
  {
   "cell_type": "code",
   "execution_count": 12,
   "id": "5c8ef230",
   "metadata": {},
   "outputs": [],
   "source": [
    "#Modifying the column\n",
    "df['Price'] = df['Price'].map(lambda x: 0 if x=='0' else float(x[1:]))"
   ]
  },
  {
   "cell_type": "code",
   "execution_count": 13,
   "id": "5237b90b",
   "metadata": {
    "scrolled": true
   },
   "outputs": [
    {
     "data": {
      "text/plain": [
       "dtype('float64')"
      ]
     },
     "execution_count": 13,
     "metadata": {},
     "output_type": "execute_result"
    }
   ],
   "source": [
    "df['Price'].dtypes"
   ]
  },
  {
   "cell_type": "markdown",
   "id": "fae4fd1d",
   "metadata": {},
   "source": [
    "**The other columns with numeric data are:<br>**\n",
    "1. Reviews\n",
    "2. Installs\n",
    "3. Size"
   ]
  },
  {
   "cell_type": "markdown",
   "id": "82527cb9",
   "metadata": {},
   "source": [
    "**2. Convert reviews to numeric**"
   ]
  },
  {
   "cell_type": "code",
   "execution_count": 14,
   "id": "fb86c06a",
   "metadata": {},
   "outputs": [
    {
     "data": {
      "text/plain": [
       "dtype('O')"
      ]
     },
     "execution_count": 14,
     "metadata": {},
     "output_type": "execute_result"
    }
   ],
   "source": [
    "df['Reviews'].dtypes"
   ]
  },
  {
   "cell_type": "code",
   "execution_count": 15,
   "id": "bd45b6e5",
   "metadata": {},
   "outputs": [],
   "source": [
    "#Converting reviews to numeric\n",
    "df['Reviews'] = df['Reviews'].astype(\"int64\")"
   ]
  },
  {
   "cell_type": "code",
   "execution_count": 16,
   "id": "940d7248",
   "metadata": {},
   "outputs": [
    {
     "data": {
      "text/plain": [
       "dtype('int64')"
      ]
     },
     "execution_count": 16,
     "metadata": {},
     "output_type": "execute_result"
    }
   ],
   "source": [
    "df['Reviews'].dtypes"
   ]
  },
  {
   "cell_type": "markdown",
   "id": "fcdb70ff",
   "metadata": {},
   "source": [
    "**3. Handle the installs column**"
   ]
  },
  {
   "cell_type": "code",
   "execution_count": 17,
   "id": "e4c31f48",
   "metadata": {
    "scrolled": true
   },
   "outputs": [
    {
     "data": {
      "text/plain": [
       "1,000,000+        1576\n",
       "10,000,000+       1252\n",
       "100,000+          1150\n",
       "10,000+           1009\n",
       "5,000,000+         752\n",
       "1,000+             712\n",
       "500,000+           537\n",
       "50,000+            466\n",
       "5,000+             431\n",
       "100,000,000+       409\n",
       "100+               309\n",
       "50,000,000+        289\n",
       "500+               201\n",
       "500,000,000+        72\n",
       "10+                 69\n",
       "1,000,000,000+      58\n",
       "50+                 56\n",
       "5+                   9\n",
       "1+                   3\n",
       "Name: Installs, dtype: int64"
      ]
     },
     "execution_count": 17,
     "metadata": {},
     "output_type": "execute_result"
    }
   ],
   "source": [
    "#Handling the installs column\n",
    "df['Installs'].value_counts()"
   ]
  },
  {
   "cell_type": "markdown",
   "id": "4d6338fc",
   "metadata": {},
   "source": [
    "We'll need to remove the commas and the plus signs."
   ]
  },
  {
   "cell_type": "markdown",
   "id": "7978fe08",
   "metadata": {},
   "source": [
    "<b> Defining function for the same </b>"
   ]
  },
  {
   "cell_type": "code",
   "execution_count": 18,
   "id": "4b37abf6",
   "metadata": {},
   "outputs": [],
   "source": [
    "def clean_installs(val):\n",
    "    return int(val.replace(\",\",\"\").replace(\"+\",\"\"))"
   ]
  },
  {
   "cell_type": "code",
   "execution_count": 19,
   "id": "fb04cb93",
   "metadata": {},
   "outputs": [],
   "source": [
    "df['Installs'] = df['Installs'].map(clean_installs)"
   ]
  },
  {
   "cell_type": "code",
   "execution_count": 20,
   "id": "8dedc2c8",
   "metadata": {
    "scrolled": true
   },
   "outputs": [
    {
     "data": {
      "text/plain": [
       "0       10000\n",
       "1      500000\n",
       "2     5000000\n",
       "3    50000000\n",
       "4      100000\n",
       "Name: Installs, dtype: int64"
      ]
     },
     "execution_count": 20,
     "metadata": {},
     "output_type": "execute_result"
    }
   ],
   "source": [
    "df['Installs'].head()"
   ]
  },
  {
   "cell_type": "markdown",
   "id": "0db43566",
   "metadata": {},
   "source": [
    "**4. Handle the app size field**"
   ]
  },
  {
   "cell_type": "code",
   "execution_count": 21,
   "id": "79e3905f",
   "metadata": {},
   "outputs": [
    {
     "data": {
      "text/plain": [
       "0     19M\n",
       "1     14M\n",
       "2    8.7M\n",
       "3     25M\n",
       "4    2.8M\n",
       "Name: Size, dtype: object"
      ]
     },
     "execution_count": 21,
     "metadata": {},
     "output_type": "execute_result"
    }
   ],
   "source": [
    "df['Size'].head()"
   ]
  },
  {
   "cell_type": "code",
   "execution_count": 22,
   "id": "aad1e5fd",
   "metadata": {},
   "outputs": [],
   "source": [
    "#Handling the app size field\n",
    "def change_size(size):\n",
    "    if 'M' in size:\n",
    "        x = size[:-1]\n",
    "        x = float(x)*1000\n",
    "        return(x)\n",
    "    elif 'k' == size[-1]:\n",
    "        x = size[:-1]\n",
    "        x = float(x)\n",
    "        return(x)\n",
    "    else:\n",
    "        return None"
   ]
  },
  {
   "cell_type": "code",
   "execution_count": 23,
   "id": "2a8c47cf",
   "metadata": {},
   "outputs": [],
   "source": [
    "df[\"Size\"] = df[\"Size\"].map(change_size)"
   ]
  },
  {
   "cell_type": "code",
   "execution_count": 24,
   "id": "87fce21c",
   "metadata": {},
   "outputs": [
    {
     "data": {
      "text/plain": [
       "0    19000.0\n",
       "1    14000.0\n",
       "2     8700.0\n",
       "3    25000.0\n",
       "4     2800.0\n",
       "Name: Size, dtype: float64"
      ]
     },
     "execution_count": 24,
     "metadata": {},
     "output_type": "execute_result"
    }
   ],
   "source": [
    "df['Size'].head()"
   ]
  },
  {
   "cell_type": "code",
   "execution_count": 25,
   "id": "aaa29aab",
   "metadata": {},
   "outputs": [
    {
     "data": {
      "text/plain": [
       "1637"
      ]
     },
     "execution_count": 25,
     "metadata": {},
     "output_type": "execute_result"
    }
   ],
   "source": [
    "df['Size'].isnull().sum()"
   ]
  },
  {
   "cell_type": "code",
   "execution_count": 26,
   "id": "124cbfb0",
   "metadata": {},
   "outputs": [],
   "source": [
    "df['Size'].fillna(df['Size'].median(),inplace=True)"
   ]
  },
  {
   "cell_type": "code",
   "execution_count": 27,
   "id": "2040ccb0",
   "metadata": {},
   "outputs": [
    {
     "data": {
      "text/plain": [
       "0"
      ]
     },
     "execution_count": 27,
     "metadata": {},
     "output_type": "execute_result"
    }
   ],
   "source": [
    "df['Size'].isnull().sum()"
   ]
  },
  {
   "cell_type": "code",
   "execution_count": 28,
   "id": "253763f0",
   "metadata": {},
   "outputs": [
    {
     "data": {
      "text/plain": [
       "App                object\n",
       "Category           object\n",
       "Rating            float64\n",
       "Reviews             int64\n",
       "Size              float64\n",
       "Installs            int64\n",
       "Type               object\n",
       "Price             float64\n",
       "Content_Rating     object\n",
       "Genres             object\n",
       "Last Updated       object\n",
       "Current Ver        object\n",
       "Android Ver        object\n",
       "dtype: object"
      ]
     },
     "execution_count": 28,
     "metadata": {},
     "output_type": "execute_result"
    }
   ],
   "source": [
    "df.dtypes"
   ]
  },
  {
   "cell_type": "code",
   "execution_count": 29,
   "id": "e60c0883",
   "metadata": {
    "scrolled": true
   },
   "outputs": [
    {
     "data": {
      "text/plain": [
       "App               0\n",
       "Category          0\n",
       "Rating            0\n",
       "Reviews           0\n",
       "Size              0\n",
       "Installs          0\n",
       "Type              0\n",
       "Price             0\n",
       "Content_Rating    0\n",
       "Genres            0\n",
       "Last Updated      0\n",
       "Current Ver       0\n",
       "Android Ver       0\n",
       "dtype: int64"
      ]
     },
     "execution_count": 29,
     "metadata": {},
     "output_type": "execute_result"
    }
   ],
   "source": [
    "df.isnull().sum()"
   ]
  },
  {
   "cell_type": "markdown",
   "id": "7623dcc5",
   "metadata": {},
   "source": [
    "1. Average rating should be between 1 and 5, as only these values are allowed on Play Store. Drop any rows that have a value outside this range."
   ]
  },
  {
   "cell_type": "code",
   "execution_count": 30,
   "id": "bc5a1d81",
   "metadata": {
    "scrolled": true
   },
   "outputs": [
    {
     "data": {
      "text/plain": [
       "0    4.1\n",
       "1    3.9\n",
       "2    4.7\n",
       "3    4.5\n",
       "4    4.3\n",
       "Name: Rating, dtype: float64"
      ]
     },
     "execution_count": 30,
     "metadata": {},
     "output_type": "execute_result"
    }
   ],
   "source": [
    "df['Rating'].head()"
   ]
  },
  {
   "cell_type": "markdown",
   "id": "51651a9e",
   "metadata": {},
   "source": [
    "#### <b> Observations </b>\n",
    "\n",
    "Min is 1 and max is 5. None of the values have rating outside the range.\n",
    "\n",
    "2. Reviews should not be more than installs as only those who installed can review the app.\n",
    "\n",
    "Checking if reviews are more than installs. Counting total rows like this."
   ]
  },
  {
   "cell_type": "code",
   "execution_count": 31,
   "id": "3dd64652",
   "metadata": {},
   "outputs": [
    {
     "data": {
      "text/plain": [
       "7"
      ]
     },
     "execution_count": 31,
     "metadata": {},
     "output_type": "execute_result"
    }
   ],
   "source": [
    "#Checking and counting the rows\n",
    "len(df[df.Reviews > df.Installs])"
   ]
  },
  {
   "cell_type": "code",
   "execution_count": 32,
   "id": "6d193314",
   "metadata": {},
   "outputs": [
    {
     "data": {
      "text/html": [
       "<div>\n",
       "<style scoped>\n",
       "    .dataframe tbody tr th:only-of-type {\n",
       "        vertical-align: middle;\n",
       "    }\n",
       "\n",
       "    .dataframe tbody tr th {\n",
       "        vertical-align: top;\n",
       "    }\n",
       "\n",
       "    .dataframe thead th {\n",
       "        text-align: right;\n",
       "    }\n",
       "</style>\n",
       "<table border=\"1\" class=\"dataframe\">\n",
       "  <thead>\n",
       "    <tr style=\"text-align: right;\">\n",
       "      <th></th>\n",
       "      <th>App</th>\n",
       "      <th>Category</th>\n",
       "      <th>Rating</th>\n",
       "      <th>Reviews</th>\n",
       "      <th>Size</th>\n",
       "      <th>Installs</th>\n",
       "      <th>Type</th>\n",
       "      <th>Price</th>\n",
       "      <th>Content_Rating</th>\n",
       "      <th>Genres</th>\n",
       "      <th>Last Updated</th>\n",
       "      <th>Current Ver</th>\n",
       "      <th>Android Ver</th>\n",
       "    </tr>\n",
       "  </thead>\n",
       "  <tbody>\n",
       "    <tr>\n",
       "      <th>2454</th>\n",
       "      <td>KBA-EZ Health Guide</td>\n",
       "      <td>MEDICAL</td>\n",
       "      <td>5.0</td>\n",
       "      <td>4</td>\n",
       "      <td>25000.0</td>\n",
       "      <td>1</td>\n",
       "      <td>Free</td>\n",
       "      <td>0.00</td>\n",
       "      <td>Everyone</td>\n",
       "      <td>Medical</td>\n",
       "      <td>August 2, 2018</td>\n",
       "      <td>1.0.72</td>\n",
       "      <td>4.0.3 and up</td>\n",
       "    </tr>\n",
       "    <tr>\n",
       "      <th>4663</th>\n",
       "      <td>Alarmy (Sleep If U Can) - Pro</td>\n",
       "      <td>LIFESTYLE</td>\n",
       "      <td>4.8</td>\n",
       "      <td>10249</td>\n",
       "      <td>14000.0</td>\n",
       "      <td>10000</td>\n",
       "      <td>Paid</td>\n",
       "      <td>2.49</td>\n",
       "      <td>Everyone</td>\n",
       "      <td>Lifestyle</td>\n",
       "      <td>July 30, 2018</td>\n",
       "      <td>Varies with device</td>\n",
       "      <td>Varies with device</td>\n",
       "    </tr>\n",
       "    <tr>\n",
       "      <th>5917</th>\n",
       "      <td>Ra Ga Ba</td>\n",
       "      <td>GAME</td>\n",
       "      <td>5.0</td>\n",
       "      <td>2</td>\n",
       "      <td>20000.0</td>\n",
       "      <td>1</td>\n",
       "      <td>Paid</td>\n",
       "      <td>1.49</td>\n",
       "      <td>Everyone</td>\n",
       "      <td>Arcade</td>\n",
       "      <td>February 8, 2017</td>\n",
       "      <td>1.0.4</td>\n",
       "      <td>2.3 and up</td>\n",
       "    </tr>\n",
       "    <tr>\n",
       "      <th>6700</th>\n",
       "      <td>Brick Breaker BR</td>\n",
       "      <td>GAME</td>\n",
       "      <td>5.0</td>\n",
       "      <td>7</td>\n",
       "      <td>19000.0</td>\n",
       "      <td>5</td>\n",
       "      <td>Free</td>\n",
       "      <td>0.00</td>\n",
       "      <td>Everyone</td>\n",
       "      <td>Arcade</td>\n",
       "      <td>July 23, 2018</td>\n",
       "      <td>1</td>\n",
       "      <td>4.1 and up</td>\n",
       "    </tr>\n",
       "    <tr>\n",
       "      <th>7402</th>\n",
       "      <td>Trovami se ci riesci</td>\n",
       "      <td>GAME</td>\n",
       "      <td>5.0</td>\n",
       "      <td>11</td>\n",
       "      <td>6100.0</td>\n",
       "      <td>10</td>\n",
       "      <td>Free</td>\n",
       "      <td>0.00</td>\n",
       "      <td>Everyone</td>\n",
       "      <td>Arcade</td>\n",
       "      <td>March 11, 2017</td>\n",
       "      <td>0.1</td>\n",
       "      <td>2.3 and up</td>\n",
       "    </tr>\n",
       "    <tr>\n",
       "      <th>8591</th>\n",
       "      <td>DN Blog</td>\n",
       "      <td>SOCIAL</td>\n",
       "      <td>5.0</td>\n",
       "      <td>20</td>\n",
       "      <td>4200.0</td>\n",
       "      <td>10</td>\n",
       "      <td>Free</td>\n",
       "      <td>0.00</td>\n",
       "      <td>Teen</td>\n",
       "      <td>Social</td>\n",
       "      <td>July 23, 2018</td>\n",
       "      <td>1</td>\n",
       "      <td>4.0 and up</td>\n",
       "    </tr>\n",
       "    <tr>\n",
       "      <th>10697</th>\n",
       "      <td>Mu.F.O.</td>\n",
       "      <td>GAME</td>\n",
       "      <td>5.0</td>\n",
       "      <td>2</td>\n",
       "      <td>16000.0</td>\n",
       "      <td>1</td>\n",
       "      <td>Paid</td>\n",
       "      <td>0.99</td>\n",
       "      <td>Everyone</td>\n",
       "      <td>Arcade</td>\n",
       "      <td>March 3, 2017</td>\n",
       "      <td>1</td>\n",
       "      <td>2.3 and up</td>\n",
       "    </tr>\n",
       "  </tbody>\n",
       "</table>\n",
       "</div>"
      ],
      "text/plain": [
       "                                 App   Category  Rating  Reviews     Size  \\\n",
       "2454             KBA-EZ Health Guide    MEDICAL     5.0        4  25000.0   \n",
       "4663   Alarmy (Sleep If U Can) - Pro  LIFESTYLE     4.8    10249  14000.0   \n",
       "5917                        Ra Ga Ba       GAME     5.0        2  20000.0   \n",
       "6700                Brick Breaker BR       GAME     5.0        7  19000.0   \n",
       "7402            Trovami se ci riesci       GAME     5.0       11   6100.0   \n",
       "8591                         DN Blog     SOCIAL     5.0       20   4200.0   \n",
       "10697                        Mu.F.O.       GAME     5.0        2  16000.0   \n",
       "\n",
       "       Installs  Type  Price Content_Rating     Genres      Last Updated  \\\n",
       "2454          1  Free   0.00       Everyone    Medical    August 2, 2018   \n",
       "4663      10000  Paid   2.49       Everyone  Lifestyle     July 30, 2018   \n",
       "5917          1  Paid   1.49       Everyone     Arcade  February 8, 2017   \n",
       "6700          5  Free   0.00       Everyone     Arcade     July 23, 2018   \n",
       "7402         10  Free   0.00       Everyone     Arcade    March 11, 2017   \n",
       "8591         10  Free   0.00           Teen     Social     July 23, 2018   \n",
       "10697         1  Paid   0.99       Everyone     Arcade     March 3, 2017   \n",
       "\n",
       "              Current Ver         Android Ver  \n",
       "2454               1.0.72        4.0.3 and up  \n",
       "4663   Varies with device  Varies with device  \n",
       "5917                1.0.4          2.3 and up  \n",
       "6700                    1          4.1 and up  \n",
       "7402                  0.1          2.3 and up  \n",
       "8591                    1          4.0 and up  \n",
       "10697                   1          2.3 and up  "
      ]
     },
     "execution_count": 32,
     "metadata": {},
     "output_type": "execute_result"
    }
   ],
   "source": [
    "df[df['Reviews'] > df['Installs']]"
   ]
  },
  {
   "cell_type": "code",
   "execution_count": 33,
   "id": "2209567b",
   "metadata": {},
   "outputs": [],
   "source": [
    "df = df[df['Reviews'] <= df['Installs']].copy()"
   ]
  },
  {
   "cell_type": "code",
   "execution_count": 34,
   "id": "b44f3847",
   "metadata": {},
   "outputs": [
    {
     "data": {
      "text/plain": [
       "(9353, 13)"
      ]
     },
     "execution_count": 34,
     "metadata": {},
     "output_type": "execute_result"
    }
   ],
   "source": [
    "df.shape"
   ]
  },
  {
   "cell_type": "code",
   "execution_count": 35,
   "id": "204b6d29",
   "metadata": {},
   "outputs": [
    {
     "data": {
      "text/plain": [
       "0"
      ]
     },
     "execution_count": 35,
     "metadata": {},
     "output_type": "execute_result"
    }
   ],
   "source": [
    "len(df[(df['Type'] == \"Free\") & (df['Price']>0)])"
   ]
  },
  {
   "cell_type": "markdown",
   "id": "08439c6d",
   "metadata": {},
   "source": [
    "#### **EDA**\n",
    "\n",
    "#### <b> Box Plot: Price</b>"
   ]
  },
  {
   "cell_type": "code",
   "execution_count": 36,
   "id": "f5ee392e",
   "metadata": {},
   "outputs": [
    {
     "data": {
      "image/png": "[encoded data removed]",
      "text/plain": [
       "<Figure size 432x288 with 1 Axes>"
      ]
     },
     "metadata": {
      "needs_background": "light"
     },
     "output_type": "display_data"
    }
   ],
   "source": [
    "#Are there any outliers? Think about the price of usual apps on the Play Store.\n",
    "sns.boxplot(data=df['Price'])\n",
    "plt.show()"
   ]
  },
  {
   "cell_type": "code",
   "execution_count": 37,
   "id": "5dd55de7",
   "metadata": {
    "scrolled": true
   },
   "outputs": [
    {
     "data": {
      "image/png": "[encoded data removed]",
      "text/plain": [
       "<Figure size 432x288 with 1 Axes>"
      ]
     },
     "metadata": {
      "needs_background": "light"
     },
     "output_type": "display_data"
    }
   ],
   "source": [
    "#Are there any apps with very high number of reviews? Do the values seem right?\n",
    "sns.boxplot(data=df.Reviews)\n",
    "plt.show()"
   ]
  },
  {
   "cell_type": "markdown",
   "id": "7994d038",
   "metadata": {},
   "source": [
    "#### **Checking Distribution and Skewness:**\n",
    "\n",
    "How are the ratings distributed? Is it more toward higher ratings?"
   ]
  },
  {
   "cell_type": "markdown",
   "id": "cf5f2235",
   "metadata": {},
   "source": [
    "##### **Distribution of Ratings**"
   ]
  },
  {
   "cell_type": "code",
   "execution_count": 38,
   "id": "072f2719",
   "metadata": {},
   "outputs": [
    {
     "data": {
      "image/png": "[encoded data removed]",
      "text/plain": [
       "<Figure size 432x288 with 1 Axes>"
      ]
     },
     "metadata": {
      "needs_background": "light"
     },
     "output_type": "display_data"
    }
   ],
   "source": [
    "#Distributing the ratings\n",
    "df.Rating.plot.hist()\n",
    "#Show plot\n",
    "plt.show()"
   ]
  },
  {
   "cell_type": "markdown",
   "id": "d5657ee3",
   "metadata": {},
   "source": [
    "##### **Histogram: Size**"
   ]
  },
  {
   "cell_type": "code",
   "execution_count": 39,
   "id": "1566e8de",
   "metadata": {},
   "outputs": [
    {
     "data": {
      "image/png": "[encoded data removed]",
      "text/plain": [
       "<Figure size 432x288 with 1 Axes>"
      ]
     },
     "metadata": {
      "needs_background": "light"
     },
     "output_type": "display_data"
    }
   ],
   "source": [
    "df['Size'].plot.hist()\n",
    "#Show plot\n",
    "plt.show()"
   ]
  },
  {
   "cell_type": "markdown",
   "id": "1bd7f289",
   "metadata": {},
   "source": [
    "##### **Outlier Treatment:**"
   ]
  },
  {
   "cell_type": "markdown",
   "id": "af826589",
   "metadata": {},
   "source": [
    "##### **1. Price:** \n",
    "\n",
    "From the box plot, it seems like there are some apps with very high prices. A price of $200 for an application on the Play Store is very high and suspicious.\n",
    "Check the records that have very high price:\n",
    "Is 200 a high price?"
   ]
  },
  {
   "cell_type": "code",
   "execution_count": 40,
   "id": "45a676dd",
   "metadata": {},
   "outputs": [
    {
     "data": {
      "text/plain": [
       "15"
      ]
     },
     "execution_count": 40,
     "metadata": {},
     "output_type": "execute_result"
    }
   ],
   "source": [
    "#Checking the records\n",
    "len(df[df['Price'] > 200])"
   ]
  },
  {
   "cell_type": "code",
   "execution_count": 41,
   "id": "fe667322",
   "metadata": {},
   "outputs": [
    {
     "data": {
      "text/html": [
       "<div>\n",
       "<style scoped>\n",
       "    .dataframe tbody tr th:only-of-type {\n",
       "        vertical-align: middle;\n",
       "    }\n",
       "\n",
       "    .dataframe tbody tr th {\n",
       "        vertical-align: top;\n",
       "    }\n",
       "\n",
       "    .dataframe thead th {\n",
       "        text-align: right;\n",
       "    }\n",
       "</style>\n",
       "<table border=\"1\" class=\"dataframe\">\n",
       "  <thead>\n",
       "    <tr style=\"text-align: right;\">\n",
       "      <th></th>\n",
       "      <th>App</th>\n",
       "      <th>Category</th>\n",
       "      <th>Rating</th>\n",
       "      <th>Reviews</th>\n",
       "      <th>Size</th>\n",
       "      <th>Installs</th>\n",
       "      <th>Type</th>\n",
       "      <th>Price</th>\n",
       "      <th>Content_Rating</th>\n",
       "      <th>Genres</th>\n",
       "      <th>Last Updated</th>\n",
       "      <th>Current Ver</th>\n",
       "      <th>Android Ver</th>\n",
       "    </tr>\n",
       "  </thead>\n",
       "  <tbody>\n",
       "    <tr>\n",
       "      <th>4197</th>\n",
       "      <td>most expensive app (H)</td>\n",
       "      <td>FAMILY</td>\n",
       "      <td>4.3</td>\n",
       "      <td>6</td>\n",
       "      <td>1500.0</td>\n",
       "      <td>100</td>\n",
       "      <td>Paid</td>\n",
       "      <td>399.99</td>\n",
       "      <td>Everyone</td>\n",
       "      <td>Entertainment</td>\n",
       "      <td>July 16, 2018</td>\n",
       "      <td>1</td>\n",
       "      <td>7.0 and up</td>\n",
       "    </tr>\n",
       "    <tr>\n",
       "      <th>4362</th>\n",
       "      <td>💎 I'm rich</td>\n",
       "      <td>LIFESTYLE</td>\n",
       "      <td>3.8</td>\n",
       "      <td>718</td>\n",
       "      <td>26000.0</td>\n",
       "      <td>10000</td>\n",
       "      <td>Paid</td>\n",
       "      <td>399.99</td>\n",
       "      <td>Everyone</td>\n",
       "      <td>Lifestyle</td>\n",
       "      <td>March 11, 2018</td>\n",
       "      <td>1.0.0</td>\n",
       "      <td>4.4 and up</td>\n",
       "    </tr>\n",
       "    <tr>\n",
       "      <th>4367</th>\n",
       "      <td>I'm Rich - Trump Edition</td>\n",
       "      <td>LIFESTYLE</td>\n",
       "      <td>3.6</td>\n",
       "      <td>275</td>\n",
       "      <td>7300.0</td>\n",
       "      <td>10000</td>\n",
       "      <td>Paid</td>\n",
       "      <td>400.00</td>\n",
       "      <td>Everyone</td>\n",
       "      <td>Lifestyle</td>\n",
       "      <td>May 3, 2018</td>\n",
       "      <td>1.0.1</td>\n",
       "      <td>4.1 and up</td>\n",
       "    </tr>\n",
       "    <tr>\n",
       "      <th>5351</th>\n",
       "      <td>I am rich</td>\n",
       "      <td>LIFESTYLE</td>\n",
       "      <td>3.8</td>\n",
       "      <td>3547</td>\n",
       "      <td>1800.0</td>\n",
       "      <td>100000</td>\n",
       "      <td>Paid</td>\n",
       "      <td>399.99</td>\n",
       "      <td>Everyone</td>\n",
       "      <td>Lifestyle</td>\n",
       "      <td>January 12, 2018</td>\n",
       "      <td>2</td>\n",
       "      <td>4.0.3 and up</td>\n",
       "    </tr>\n",
       "    <tr>\n",
       "      <th>5354</th>\n",
       "      <td>I am Rich Plus</td>\n",
       "      <td>FAMILY</td>\n",
       "      <td>4.0</td>\n",
       "      <td>856</td>\n",
       "      <td>8700.0</td>\n",
       "      <td>10000</td>\n",
       "      <td>Paid</td>\n",
       "      <td>399.99</td>\n",
       "      <td>Everyone</td>\n",
       "      <td>Entertainment</td>\n",
       "      <td>May 19, 2018</td>\n",
       "      <td>3</td>\n",
       "      <td>4.4 and up</td>\n",
       "    </tr>\n",
       "    <tr>\n",
       "      <th>5355</th>\n",
       "      <td>I am rich VIP</td>\n",
       "      <td>LIFESTYLE</td>\n",
       "      <td>3.8</td>\n",
       "      <td>411</td>\n",
       "      <td>2600.0</td>\n",
       "      <td>10000</td>\n",
       "      <td>Paid</td>\n",
       "      <td>299.99</td>\n",
       "      <td>Everyone</td>\n",
       "      <td>Lifestyle</td>\n",
       "      <td>July 21, 2018</td>\n",
       "      <td>1.1.1</td>\n",
       "      <td>4.3 and up</td>\n",
       "    </tr>\n",
       "    <tr>\n",
       "      <th>5356</th>\n",
       "      <td>I Am Rich Premium</td>\n",
       "      <td>FINANCE</td>\n",
       "      <td>4.1</td>\n",
       "      <td>1867</td>\n",
       "      <td>4700.0</td>\n",
       "      <td>50000</td>\n",
       "      <td>Paid</td>\n",
       "      <td>399.99</td>\n",
       "      <td>Everyone</td>\n",
       "      <td>Finance</td>\n",
       "      <td>November 12, 2017</td>\n",
       "      <td>1.6</td>\n",
       "      <td>4.0 and up</td>\n",
       "    </tr>\n",
       "    <tr>\n",
       "      <th>5357</th>\n",
       "      <td>I am extremely Rich</td>\n",
       "      <td>LIFESTYLE</td>\n",
       "      <td>2.9</td>\n",
       "      <td>41</td>\n",
       "      <td>2900.0</td>\n",
       "      <td>1000</td>\n",
       "      <td>Paid</td>\n",
       "      <td>379.99</td>\n",
       "      <td>Everyone</td>\n",
       "      <td>Lifestyle</td>\n",
       "      <td>July 1, 2018</td>\n",
       "      <td>1</td>\n",
       "      <td>4.0 and up</td>\n",
       "    </tr>\n",
       "    <tr>\n",
       "      <th>5358</th>\n",
       "      <td>I am Rich!</td>\n",
       "      <td>FINANCE</td>\n",
       "      <td>3.8</td>\n",
       "      <td>93</td>\n",
       "      <td>22000.0</td>\n",
       "      <td>1000</td>\n",
       "      <td>Paid</td>\n",
       "      <td>399.99</td>\n",
       "      <td>Everyone</td>\n",
       "      <td>Finance</td>\n",
       "      <td>December 11, 2017</td>\n",
       "      <td>1</td>\n",
       "      <td>4.1 and up</td>\n",
       "    </tr>\n",
       "    <tr>\n",
       "      <th>5359</th>\n",
       "      <td>I am rich(premium)</td>\n",
       "      <td>FINANCE</td>\n",
       "      <td>3.5</td>\n",
       "      <td>472</td>\n",
       "      <td>965.0</td>\n",
       "      <td>5000</td>\n",
       "      <td>Paid</td>\n",
       "      <td>399.99</td>\n",
       "      <td>Everyone</td>\n",
       "      <td>Finance</td>\n",
       "      <td>May 1, 2017</td>\n",
       "      <td>3.4</td>\n",
       "      <td>4.4 and up</td>\n",
       "    </tr>\n",
       "    <tr>\n",
       "      <th>5362</th>\n",
       "      <td>I Am Rich Pro</td>\n",
       "      <td>FAMILY</td>\n",
       "      <td>4.4</td>\n",
       "      <td>201</td>\n",
       "      <td>2700.0</td>\n",
       "      <td>5000</td>\n",
       "      <td>Paid</td>\n",
       "      <td>399.99</td>\n",
       "      <td>Everyone</td>\n",
       "      <td>Entertainment</td>\n",
       "      <td>May 30, 2017</td>\n",
       "      <td>1.54</td>\n",
       "      <td>1.6 and up</td>\n",
       "    </tr>\n",
       "    <tr>\n",
       "      <th>5364</th>\n",
       "      <td>I am rich (Most expensive app)</td>\n",
       "      <td>FINANCE</td>\n",
       "      <td>4.1</td>\n",
       "      <td>129</td>\n",
       "      <td>2700.0</td>\n",
       "      <td>1000</td>\n",
       "      <td>Paid</td>\n",
       "      <td>399.99</td>\n",
       "      <td>Teen</td>\n",
       "      <td>Finance</td>\n",
       "      <td>December 6, 2017</td>\n",
       "      <td>2</td>\n",
       "      <td>4.0.3 and up</td>\n",
       "    </tr>\n",
       "    <tr>\n",
       "      <th>5366</th>\n",
       "      <td>I Am Rich</td>\n",
       "      <td>FAMILY</td>\n",
       "      <td>3.6</td>\n",
       "      <td>217</td>\n",
       "      <td>4900.0</td>\n",
       "      <td>10000</td>\n",
       "      <td>Paid</td>\n",
       "      <td>389.99</td>\n",
       "      <td>Everyone</td>\n",
       "      <td>Entertainment</td>\n",
       "      <td>June 22, 2018</td>\n",
       "      <td>1.5</td>\n",
       "      <td>4.2 and up</td>\n",
       "    </tr>\n",
       "    <tr>\n",
       "      <th>5369</th>\n",
       "      <td>I am Rich</td>\n",
       "      <td>FINANCE</td>\n",
       "      <td>4.3</td>\n",
       "      <td>180</td>\n",
       "      <td>3800.0</td>\n",
       "      <td>5000</td>\n",
       "      <td>Paid</td>\n",
       "      <td>399.99</td>\n",
       "      <td>Everyone</td>\n",
       "      <td>Finance</td>\n",
       "      <td>March 22, 2018</td>\n",
       "      <td>1</td>\n",
       "      <td>4.2 and up</td>\n",
       "    </tr>\n",
       "    <tr>\n",
       "      <th>5373</th>\n",
       "      <td>I AM RICH PRO PLUS</td>\n",
       "      <td>FINANCE</td>\n",
       "      <td>4.0</td>\n",
       "      <td>36</td>\n",
       "      <td>41000.0</td>\n",
       "      <td>1000</td>\n",
       "      <td>Paid</td>\n",
       "      <td>399.99</td>\n",
       "      <td>Everyone</td>\n",
       "      <td>Finance</td>\n",
       "      <td>June 25, 2018</td>\n",
       "      <td>1.0.2</td>\n",
       "      <td>4.1 and up</td>\n",
       "    </tr>\n",
       "  </tbody>\n",
       "</table>\n",
       "</div>"
      ],
      "text/plain": [
       "                                 App   Category  Rating  Reviews     Size  \\\n",
       "4197          most expensive app (H)     FAMILY     4.3        6   1500.0   \n",
       "4362                      💎 I'm rich  LIFESTYLE     3.8      718  26000.0   \n",
       "4367        I'm Rich - Trump Edition  LIFESTYLE     3.6      275   7300.0   \n",
       "5351                       I am rich  LIFESTYLE     3.8     3547   1800.0   \n",
       "5354                  I am Rich Plus     FAMILY     4.0      856   8700.0   \n",
       "5355                   I am rich VIP  LIFESTYLE     3.8      411   2600.0   \n",
       "5356               I Am Rich Premium    FINANCE     4.1     1867   4700.0   \n",
       "5357             I am extremely Rich  LIFESTYLE     2.9       41   2900.0   \n",
       "5358                      I am Rich!    FINANCE     3.8       93  22000.0   \n",
       "5359              I am rich(premium)    FINANCE     3.5      472    965.0   \n",
       "5362                   I Am Rich Pro     FAMILY     4.4      201   2700.0   \n",
       "5364  I am rich (Most expensive app)    FINANCE     4.1      129   2700.0   \n",
       "5366                       I Am Rich     FAMILY     3.6      217   4900.0   \n",
       "5369                       I am Rich    FINANCE     4.3      180   3800.0   \n",
       "5373              I AM RICH PRO PLUS    FINANCE     4.0       36  41000.0   \n",
       "\n",
       "      Installs  Type   Price Content_Rating         Genres       Last Updated  \\\n",
       "4197       100  Paid  399.99       Everyone  Entertainment      July 16, 2018   \n",
       "4362     10000  Paid  399.99       Everyone      Lifestyle     March 11, 2018   \n",
       "4367     10000  Paid  400.00       Everyone      Lifestyle        May 3, 2018   \n",
       "5351    100000  Paid  399.99       Everyone      Lifestyle   January 12, 2018   \n",
       "5354     10000  Paid  399.99       Everyone  Entertainment       May 19, 2018   \n",
       "5355     10000  Paid  299.99       Everyone      Lifestyle      July 21, 2018   \n",
       "5356     50000  Paid  399.99       Everyone        Finance  November 12, 2017   \n",
       "5357      1000  Paid  379.99       Everyone      Lifestyle       July 1, 2018   \n",
       "5358      1000  Paid  399.99       Everyone        Finance  December 11, 2017   \n",
       "5359      5000  Paid  399.99       Everyone        Finance        May 1, 2017   \n",
       "5362      5000  Paid  399.99       Everyone  Entertainment       May 30, 2017   \n",
       "5364      1000  Paid  399.99           Teen        Finance   December 6, 2017   \n",
       "5366     10000  Paid  389.99       Everyone  Entertainment      June 22, 2018   \n",
       "5369      5000  Paid  399.99       Everyone        Finance     March 22, 2018   \n",
       "5373      1000  Paid  399.99       Everyone        Finance      June 25, 2018   \n",
       "\n",
       "     Current Ver   Android Ver  \n",
       "4197           1    7.0 and up  \n",
       "4362       1.0.0    4.4 and up  \n",
       "4367       1.0.1    4.1 and up  \n",
       "5351           2  4.0.3 and up  \n",
       "5354           3    4.4 and up  \n",
       "5355       1.1.1    4.3 and up  \n",
       "5356         1.6    4.0 and up  \n",
       "5357           1    4.0 and up  \n",
       "5358           1    4.1 and up  \n",
       "5359         3.4    4.4 and up  \n",
       "5362        1.54    1.6 and up  \n",
       "5364           2  4.0.3 and up  \n",
       "5366         1.5    4.2 and up  \n",
       "5369           1    4.2 and up  \n",
       "5373       1.0.2    4.1 and up  "
      ]
     },
     "execution_count": 41,
     "metadata": {},
     "output_type": "execute_result"
    }
   ],
   "source": [
    "df[df['Price'] > 200]"
   ]
  },
  {
   "cell_type": "code",
   "execution_count": 42,
   "id": "e6790669",
   "metadata": {},
   "outputs": [
    {
     "data": {
      "text/plain": [
       "(9338, 13)"
      ]
     },
     "execution_count": 42,
     "metadata": {},
     "output_type": "execute_result"
    }
   ],
   "source": [
    "df = df[df['Price'] <= 200].copy()\n",
    "\n",
    "df.shape"
   ]
  },
  {
   "cell_type": "markdown",
   "id": "881fe56f",
   "metadata": {},
   "source": [
    "##### **2. Reviews:**\n",
    "\n",
    "Very few apps have very high number of reviews. These are all star apps that don’t help with the analysis and, in fact, will skew it. Drop records having more than 2 million reviews."
   ]
  },
  {
   "cell_type": "code",
   "execution_count": 43,
   "id": "80fe360e",
   "metadata": {},
   "outputs": [
    {
     "data": {
      "text/plain": [
       "(8885, 13)"
      ]
     },
     "execution_count": 43,
     "metadata": {},
     "output_type": "execute_result"
    }
   ],
   "source": [
    "#Dropping the records with more than 2 million reviews\n",
    "df = df[df['Reviews'] <= 2000000]\n",
    "df.shape"
   ]
  },
  {
   "cell_type": "markdown",
   "id": "6bc3b9f5",
   "metadata": {},
   "source": [
    "##### **3. Installs:**\n",
    "\n",
    "There seem to be some outliers in this field too. Apps having a very high number of installs should be dropped from the analysis.\n",
    "Find out the different percentiles – 10, 25, 50, 70, 90, 95, 99.\n",
    "\n",
    "Decide a threshold as the cutoff for outliers and drop records having values more than the threshold.\n"
   ]
  },
  {
   "cell_type": "code",
   "execution_count": 44,
   "id": "c83b57e4",
   "metadata": {},
   "outputs": [
    {
     "data": {
      "image/png": "[encoded data removed]",
      "text/plain": [
       "<Figure size 432x288 with 1 Axes>"
      ]
     },
     "metadata": {
      "needs_background": "light"
     },
     "output_type": "display_data"
    }
   ],
   "source": [
    "plt.boxplot(df['Installs'])\n",
    "plt.show()"
   ]
  },
  {
   "cell_type": "code",
   "execution_count": 45,
   "id": "a1f45f1a",
   "metadata": {
    "scrolled": true
   },
   "outputs": [
    {
     "data": {
      "text/plain": [
       "0.10         1000.0\n",
       "0.25        10000.0\n",
       "0.50       500000.0\n",
       "0.70      1000000.0\n",
       "0.90     10000000.0\n",
       "0.95     10000000.0\n",
       "0.99    100000000.0\n",
       "Name: Installs, dtype: float64"
      ]
     },
     "execution_count": 45,
     "metadata": {},
     "output_type": "execute_result"
    }
   ],
   "source": [
    "#Dropping the apps that have a very high number of installs\n",
    "df.Installs.quantile([0.1, 0.25, 0.5, 0.70, 0.9, 0.95, 0.99])"
   ]
  },
  {
   "cell_type": "markdown",
   "id": "bb028fc2",
   "metadata": {},
   "source": [
    "#### <b> Observations </b>\n",
    "Looks like there are just 1% of apps having more than 100M installs. These apps might be genuine, but will definitely skew our analysis.  \n",
    "We need to drop these.\n"
   ]
  },
  {
   "cell_type": "code",
   "execution_count": 46,
   "id": "dd070efc",
   "metadata": {},
   "outputs": [
    {
     "data": {
      "text/plain": [
       "6"
      ]
     },
     "execution_count": 46,
     "metadata": {},
     "output_type": "execute_result"
    }
   ],
   "source": [
    "#Dropping the apps with more than 100M installs\n",
    "len(df[df['Installs'] >= 1000000000])"
   ]
  },
  {
   "cell_type": "code",
   "execution_count": 47,
   "id": "51314477",
   "metadata": {},
   "outputs": [
    {
     "data": {
      "text/plain": [
       "(8879, 13)"
      ]
     },
     "execution_count": 47,
     "metadata": {},
     "output_type": "execute_result"
    }
   ],
   "source": [
    "df = df[df['Installs'] < 1000000000].copy()\n",
    "df.shape"
   ]
  },
  {
   "cell_type": "code",
   "execution_count": 48,
   "id": "2c95a023",
   "metadata": {},
   "outputs": [],
   "source": [
    "#Importing warnings\n",
    "import warnings\n",
    "warnings.filterwarnings(\"ignore\")"
   ]
  },
  {
   "cell_type": "markdown",
   "id": "5f0b51f2",
   "metadata": {},
   "source": [
    "#### **Bi-variate Analysis:**\n",
    "\n",
    "Let’s look at how the available predictors relate to the variable of interest, i.e., our target variable rating. Make scatter plots (for numeric features) and box plots (for character features) to assess the relationhips between rating and the other features."
   ]
  },
  {
   "cell_type": "markdown",
   "id": "03a75bcd",
   "metadata": {},
   "source": [
    "##### **1.\tMake scatter plot/join plot for Rating vs. Price**"
   ]
  },
  {
   "cell_type": "code",
   "execution_count": 49,
   "id": "1365bba6",
   "metadata": {},
   "outputs": [
    {
     "data": {
      "text/plain": [
       "<seaborn.axisgrid.JointGrid at 0x21da3285c10>"
      ]
     },
     "execution_count": 49,
     "metadata": {},
     "output_type": "execute_result"
    },
    {
     "data": {
      "image/png": "[encoded data removed]",
      "text/plain": [
       "<Figure size 432x432 with 3 Axes>"
      ]
     },
     "metadata": {
      "needs_background": "light"
     },
     "output_type": "display_data"
    }
   ],
   "source": [
    "#What pattern do you observe? Does rating increase with price?\n",
    "sns.jointplot(df.Price, df.Rating)"
   ]
  },
  {
   "cell_type": "markdown",
   "id": "95ca3e88",
   "metadata": {},
   "source": [
    "##### **2.\tMake scatter plot/joinplot for Rating vs Size**"
   ]
  },
  {
   "cell_type": "code",
   "execution_count": 50,
   "id": "d84e7f49",
   "metadata": {},
   "outputs": [
    {
     "data": {
      "text/plain": [
       "<seaborn.axisgrid.JointGrid at 0x21da4475370>"
      ]
     },
     "execution_count": 50,
     "metadata": {},
     "output_type": "execute_result"
    },
    {
     "data": {
      "image/png": "[encoded data removed]",
      "text/plain": [
       "<Figure size 432x432 with 3 Axes>"
      ]
     },
     "metadata": {
      "needs_background": "light"
     },
     "output_type": "display_data"
    }
   ],
   "source": [
    "#Are heavier apps rated better?\n",
    "sns.jointplot(df.Size, df.Rating)"
   ]
  },
  {
   "cell_type": "markdown",
   "id": "8f55e649",
   "metadata": {},
   "source": [
    "##### **3.\tMake scatter plot/joinplot for Rating vs Reviews**"
   ]
  },
  {
   "cell_type": "code",
   "execution_count": 51,
   "id": "990f366b",
   "metadata": {},
   "outputs": [
    {
     "data": {
      "text/plain": [
       "<seaborn.axisgrid.JointGrid at 0x21da31d80a0>"
      ]
     },
     "execution_count": 51,
     "metadata": {},
     "output_type": "execute_result"
    },
    {
     "data": {
      "image/png": "[encoded data removed]",
      "text/plain": [
       "<Figure size 432x432 with 3 Axes>"
      ]
     },
     "metadata": {
      "needs_background": "light"
     },
     "output_type": "display_data"
    }
   ],
   "source": [
    "# Does more review mean a better rating always?\n",
    "sns.jointplot(df.Reviews, df.Rating)"
   ]
  },
  {
   "cell_type": "markdown",
   "id": "c884138b",
   "metadata": {},
   "source": [
    "##### **4.\tMake boxplot for Rating vs Content Rating**"
   ]
  },
  {
   "cell_type": "code",
   "execution_count": 52,
   "id": "aca08f93",
   "metadata": {},
   "outputs": [
    {
     "data": {
      "text/plain": [
       "<AxesSubplot:xlabel='Content_Rating', ylabel='Rating'>"
      ]
     },
     "execution_count": 52,
     "metadata": {},
     "output_type": "execute_result"
    },
    {
     "data": {
      "image/png": "[encoded data removed]",
      "text/plain": [
       "<Figure size 576x432 with 1 Axes>"
      ]
     },
     "metadata": {
      "needs_background": "light"
     },
     "output_type": "display_data"
    }
   ],
   "source": [
    "#Is there any difference in the ratings? Are some types liked better?\n",
    "plt.figure(figsize=[8,6])\n",
    "sns.boxplot(df['Content_Rating'], df.Rating)"
   ]
  },
  {
   "cell_type": "markdown",
   "id": "0ed26a30",
   "metadata": {},
   "source": [
    "##### **5. Make boxplot for Ratings vs. Category**"
   ]
  },
  {
   "cell_type": "code",
   "execution_count": 53,
   "id": "339be431",
   "metadata": {},
   "outputs": [
    {
     "data": {
      "text/plain": [
       "(array([ 0,  1,  2,  3,  4,  5,  6,  7,  8,  9, 10, 11, 12, 13, 14, 15, 16,\n",
       "        17, 18, 19, 20, 21, 22, 23, 24, 25, 26, 27, 28, 29, 30, 31, 32]),\n",
       " [Text(0, 0, 'ART_AND_DESIGN'),\n",
       "  Text(1, 0, 'AUTO_AND_VEHICLES'),\n",
       "  Text(2, 0, 'BEAUTY'),\n",
       "  Text(3, 0, 'BOOKS_AND_REFERENCE'),\n",
       "  Text(4, 0, 'BUSINESS'),\n",
       "  Text(5, 0, 'COMICS'),\n",
       "  Text(6, 0, 'COMMUNICATION'),\n",
       "  Text(7, 0, 'DATING'),\n",
       "  Text(8, 0, 'EDUCATION'),\n",
       "  Text(9, 0, 'ENTERTAINMENT'),\n",
       "  Text(10, 0, 'EVENTS'),\n",
       "  Text(11, 0, 'FINANCE'),\n",
       "  Text(12, 0, 'FOOD_AND_DRINK'),\n",
       "  Text(13, 0, 'HEALTH_AND_FITNESS'),\n",
       "  Text(14, 0, 'HOUSE_AND_HOME'),\n",
       "  Text(15, 0, 'LIBRARIES_AND_DEMO'),\n",
       "  Text(16, 0, 'LIFESTYLE'),\n",
       "  Text(17, 0, 'GAME'),\n",
       "  Text(18, 0, 'FAMILY'),\n",
       "  Text(19, 0, 'MEDICAL'),\n",
       "  Text(20, 0, 'SOCIAL'),\n",
       "  Text(21, 0, 'SHOPPING'),\n",
       "  Text(22, 0, 'PHOTOGRAPHY'),\n",
       "  Text(23, 0, 'SPORTS'),\n",
       "  Text(24, 0, 'TRAVEL_AND_LOCAL'),\n",
       "  Text(25, 0, 'TOOLS'),\n",
       "  Text(26, 0, 'PERSONALIZATION'),\n",
       "  Text(27, 0, 'PRODUCTIVITY'),\n",
       "  Text(28, 0, 'PARENTING'),\n",
       "  Text(29, 0, 'WEATHER'),\n",
       "  Text(30, 0, 'VIDEO_PLAYERS'),\n",
       "  Text(31, 0, 'NEWS_AND_MAGAZINES'),\n",
       "  Text(32, 0, 'MAPS_AND_NAVIGATION')])"
      ]
     },
     "execution_count": 53,
     "metadata": {},
     "output_type": "execute_result"
    },
    {
     "data": {
      "image/png": "[encoded data removed]",
      "text/plain": [
       "<Figure size 1296x432 with 1 Axes>"
      ]
     },
     "metadata": {
      "needs_background": "light"
     },
     "output_type": "display_data"
    }
   ],
   "source": [
    "#Which genre has the best ratings?\n",
    "plt.figure(figsize=[18,6])\n",
    "sns.boxplot(df.Category, df.Rating)\n",
    "plt.xticks(rotation=90)"
   ]
  },
  {
   "cell_type": "markdown",
   "id": "f1e0d6a7",
   "metadata": {},
   "source": [
    "#### **Pre-processing the Dataset**\n",
    "\n",
    "##### **1. Make a copy of the dataset**"
   ]
  },
  {
   "cell_type": "code",
   "execution_count": 54,
   "id": "ea2d3e49",
   "metadata": {},
   "outputs": [],
   "source": [
    "#Making a copy\n",
    "df1 = df.copy()"
   ]
  },
  {
   "cell_type": "markdown",
   "id": "7628acfc",
   "metadata": {},
   "source": [
    "##### **2. Apply log transformation (np.log1p) to Reviews and Installs**\n",
    "\n",
    "Reviews and Installs have some values that are still relatively very high.\n",
    "Before building a linear regression model, you need to reduce the skew."
   ]
  },
  {
   "cell_type": "code",
   "execution_count": 55,
   "id": "9efedcd6",
   "metadata": {},
   "outputs": [
    {
     "data": {
      "text/plain": [
       "count    8.879000e+03\n",
       "mean     5.595862e+06\n",
       "std      2.421042e+07\n",
       "min      5.000000e+00\n",
       "25%      1.000000e+04\n",
       "50%      5.000000e+05\n",
       "75%      5.000000e+06\n",
       "max      5.000000e+08\n",
       "Name: Installs, dtype: float64"
      ]
     },
     "execution_count": 55,
     "metadata": {},
     "output_type": "execute_result"
    }
   ],
   "source": [
    "#Reducing the skew\n",
    "df1['Installs'].describe()"
   ]
  },
  {
   "cell_type": "code",
   "execution_count": 56,
   "id": "baf2735a",
   "metadata": {},
   "outputs": [],
   "source": [
    "df1['Installs'] = df1['Installs'].apply(np.log1p)"
   ]
  },
  {
   "cell_type": "code",
   "execution_count": 57,
   "id": "fc04b5ef",
   "metadata": {},
   "outputs": [],
   "source": [
    "df1['Reviews'] = df1['Reviews'].apply(np.log1p)"
   ]
  },
  {
   "cell_type": "markdown",
   "id": "ba4cd713",
   "metadata": {},
   "source": [
    "##### **3. Drop columns App, Last Updated, Current Ver, and Android Ver**\n",
    "\n",
    " These variables are not useful for our task."
   ]
  },
  {
   "cell_type": "code",
   "execution_count": 58,
   "id": "bce2ff46",
   "metadata": {},
   "outputs": [
    {
     "data": {
      "text/plain": [
       "count    8879.000000\n",
       "mean       11.981171\n",
       "std         3.617244\n",
       "min         1.791759\n",
       "25%         9.210440\n",
       "50%        13.122365\n",
       "75%        15.424949\n",
       "max        20.030119\n",
       "Name: Installs, dtype: float64"
      ]
     },
     "execution_count": 58,
     "metadata": {},
     "output_type": "execute_result"
    }
   ],
   "source": [
    "#Reducing the skew\n",
    "df1['Installs'].describe()"
   ]
  },
  {
   "cell_type": "code",
   "execution_count": 59,
   "id": "0e758664",
   "metadata": {},
   "outputs": [
    {
     "data": {
      "text/plain": [
       "App                object\n",
       "Category           object\n",
       "Rating            float64\n",
       "Reviews           float64\n",
       "Size              float64\n",
       "Installs          float64\n",
       "Type               object\n",
       "Price             float64\n",
       "Content_Rating     object\n",
       "Genres             object\n",
       "Last Updated       object\n",
       "Current Ver        object\n",
       "Android Ver        object\n",
       "dtype: object"
      ]
     },
     "execution_count": 59,
     "metadata": {},
     "output_type": "execute_result"
    }
   ],
   "source": [
    "df1.dtypes"
   ]
  },
  {
   "cell_type": "code",
   "execution_count": 60,
   "id": "397affb8",
   "metadata": {},
   "outputs": [
    {
     "data": {
      "text/plain": [
       "(8879, 9)"
      ]
     },
     "execution_count": 60,
     "metadata": {},
     "output_type": "execute_result"
    }
   ],
   "source": [
    "#Dropping the variables that are not useful for our task\n",
    "df1.drop([\"App\", \"Last Updated\", \"Current Ver\", \"Android Ver\"], axis=1, inplace=True)\n",
    "df1.shape"
   ]
  },
  {
   "cell_type": "markdown",
   "id": "cf63576d",
   "metadata": {},
   "source": [
    "##### **4. Dummy Columns:**\n",
    "\n",
    "\n",
    "Get dummy columns for Category, Genres, and Content Rating. This needs to be done as the models do not understand categorical data, and all data should be numeric. Dummy encoding is one way to convert character fields to numeric fields. Name of the dataframe should be **inp2**."
   ]
  },
  {
   "cell_type": "code",
   "execution_count": 61,
   "id": "42c78246",
   "metadata": {},
   "outputs": [],
   "source": [
    "df_with_dummies = pd.get_dummies(df1, drop_first=True)"
   ]
  },
  {
   "cell_type": "code",
   "execution_count": 62,
   "id": "58f6e3da",
   "metadata": {},
   "outputs": [
    {
     "data": {
      "text/plain": [
       "Index(['Rating', 'Reviews', 'Size', 'Installs', 'Price',\n",
       "       'Category_AUTO_AND_VEHICLES', 'Category_BEAUTY',\n",
       "       'Category_BOOKS_AND_REFERENCE', 'Category_BUSINESS', 'Category_COMICS',\n",
       "       ...\n",
       "       'Genres_Tools', 'Genres_Tools_Education', 'Genres_Travel_&_Local',\n",
       "       'Genres_Travel_&_Local_Action_&_Adventure', 'Genres_Trivia',\n",
       "       'Genres_Video_Players_&_Editors',\n",
       "       'Genres_Video_Players_&_Editors_Creativity',\n",
       "       'Genres_Video_Players_&_Editors_Music_&_Video', 'Genres_Weather',\n",
       "       'Genres_Word'],\n",
       "      dtype='object', length=157)"
      ]
     },
     "execution_count": 62,
     "metadata": {},
     "output_type": "execute_result"
    }
   ],
   "source": [
    "df_with_dummies.columns"
   ]
  },
  {
   "cell_type": "code",
   "execution_count": 63,
   "id": "a2cab6f7",
   "metadata": {
    "scrolled": true
   },
   "outputs": [
    {
     "data": {
      "text/plain": [
       "(8879, 157)"
      ]
     },
     "execution_count": 63,
     "metadata": {},
     "output_type": "execute_result"
    }
   ],
   "source": [
    "df_with_dummies.shape"
   ]
  },
  {
   "cell_type": "markdown",
   "id": "57ee8bd2",
   "metadata": {},
   "source": [
    "#### **Train-test split**\n",
    "Let us distribute the data into **training** and **test** datasets using the **train_test_split()** function."
   ]
  },
  {
   "cell_type": "code",
   "execution_count": 64,
   "id": "50cbd1e6",
   "metadata": {},
   "outputs": [],
   "source": [
    "#Importing \"train_test-split\" function to test the model\n",
    "from sklearn.model_selection import train_test_split"
   ]
  },
  {
   "cell_type": "code",
   "execution_count": 65,
   "id": "1ea0d4f1",
   "metadata": {},
   "outputs": [],
   "source": [
    "#Splitting of data as X (Features) and y (Target or label) happens here.\n",
    "X=df_with_dummies.drop('Rating',axis=1)\n",
    "y=df_with_dummies['Rating']"
   ]
  },
  {
   "cell_type": "markdown",
   "id": "88397baf",
   "metadata": {},
   "source": [
    "Let us separate the dataframes into **X_train, y_train, X_test, y_test.**"
   ]
  },
  {
   "cell_type": "code",
   "execution_count": 66,
   "id": "ace7a76a",
   "metadata": {},
   "outputs": [],
   "source": [
    "#The X and y got splitted as 70% for training purpose and 30% for testing purpose here\n",
    "X_train, X_test, y_train, y_test = train_test_split(X, y, test_size=0.30, random_state=101)"
   ]
  },
  {
   "cell_type": "code",
   "execution_count": 67,
   "id": "d9b2eff9",
   "metadata": {},
   "outputs": [
    {
     "name": "stdout",
     "output_type": "stream",
     "text": [
      "(6215, 156)\n",
      "(2664, 156)\n",
      "(6215,)\n",
      "(2664,)\n"
     ]
    }
   ],
   "source": [
    "#Confirming whether it got splitted properly.\n",
    "print(X_train.shape)\n",
    "print(X_test.shape)\n",
    "print(y_train.shape)\n",
    "print(y_test.shape)"
   ]
  },
  {
   "cell_type": "code",
   "execution_count": 68,
   "id": "d6235ae7",
   "metadata": {},
   "outputs": [
    {
     "data": {
      "text/html": [
       "<div>\n",
       "<style scoped>\n",
       "    .dataframe tbody tr th:only-of-type {\n",
       "        vertical-align: middle;\n",
       "    }\n",
       "\n",
       "    .dataframe tbody tr th {\n",
       "        vertical-align: top;\n",
       "    }\n",
       "\n",
       "    .dataframe thead th {\n",
       "        text-align: right;\n",
       "    }\n",
       "</style>\n",
       "<table border=\"1\" class=\"dataframe\">\n",
       "  <thead>\n",
       "    <tr style=\"text-align: right;\">\n",
       "      <th></th>\n",
       "      <th>Reviews</th>\n",
       "      <th>Size</th>\n",
       "      <th>Installs</th>\n",
       "      <th>Price</th>\n",
       "      <th>Category_AUTO_AND_VEHICLES</th>\n",
       "      <th>Category_BEAUTY</th>\n",
       "      <th>Category_BOOKS_AND_REFERENCE</th>\n",
       "      <th>Category_BUSINESS</th>\n",
       "      <th>Category_COMICS</th>\n",
       "      <th>Category_COMMUNICATION</th>\n",
       "      <th>...</th>\n",
       "      <th>Genres_Tools</th>\n",
       "      <th>Genres_Tools_Education</th>\n",
       "      <th>Genres_Travel_&amp;_Local</th>\n",
       "      <th>Genres_Travel_&amp;_Local_Action_&amp;_Adventure</th>\n",
       "      <th>Genres_Trivia</th>\n",
       "      <th>Genres_Video_Players_&amp;_Editors</th>\n",
       "      <th>Genres_Video_Players_&amp;_Editors_Creativity</th>\n",
       "      <th>Genres_Video_Players_&amp;_Editors_Music_&amp;_Video</th>\n",
       "      <th>Genres_Weather</th>\n",
       "      <th>Genres_Word</th>\n",
       "    </tr>\n",
       "  </thead>\n",
       "  <tbody>\n",
       "    <tr>\n",
       "      <th>2961</th>\n",
       "      <td>12.555542</td>\n",
       "      <td>14000.0</td>\n",
       "      <td>16.118096</td>\n",
       "      <td>0.00</td>\n",
       "      <td>0</td>\n",
       "      <td>0</td>\n",
       "      <td>0</td>\n",
       "      <td>0</td>\n",
       "      <td>0</td>\n",
       "      <td>0</td>\n",
       "      <td>...</td>\n",
       "      <td>0</td>\n",
       "      <td>0</td>\n",
       "      <td>0</td>\n",
       "      <td>0</td>\n",
       "      <td>0</td>\n",
       "      <td>0</td>\n",
       "      <td>0</td>\n",
       "      <td>0</td>\n",
       "      <td>0</td>\n",
       "      <td>0</td>\n",
       "    </tr>\n",
       "    <tr>\n",
       "      <th>5802</th>\n",
       "      <td>9.668208</td>\n",
       "      <td>42000.0</td>\n",
       "      <td>13.815512</td>\n",
       "      <td>0.00</td>\n",
       "      <td>0</td>\n",
       "      <td>0</td>\n",
       "      <td>0</td>\n",
       "      <td>0</td>\n",
       "      <td>0</td>\n",
       "      <td>0</td>\n",
       "      <td>...</td>\n",
       "      <td>0</td>\n",
       "      <td>0</td>\n",
       "      <td>0</td>\n",
       "      <td>0</td>\n",
       "      <td>0</td>\n",
       "      <td>0</td>\n",
       "      <td>0</td>\n",
       "      <td>0</td>\n",
       "      <td>0</td>\n",
       "      <td>0</td>\n",
       "    </tr>\n",
       "    <tr>\n",
       "      <th>5482</th>\n",
       "      <td>0.693147</td>\n",
       "      <td>655.0</td>\n",
       "      <td>2.397895</td>\n",
       "      <td>4.99</td>\n",
       "      <td>0</td>\n",
       "      <td>0</td>\n",
       "      <td>0</td>\n",
       "      <td>0</td>\n",
       "      <td>0</td>\n",
       "      <td>0</td>\n",
       "      <td>...</td>\n",
       "      <td>0</td>\n",
       "      <td>0</td>\n",
       "      <td>0</td>\n",
       "      <td>0</td>\n",
       "      <td>0</td>\n",
       "      <td>0</td>\n",
       "      <td>0</td>\n",
       "      <td>0</td>\n",
       "      <td>0</td>\n",
       "      <td>0</td>\n",
       "    </tr>\n",
       "    <tr>\n",
       "      <th>6346</th>\n",
       "      <td>1.609438</td>\n",
       "      <td>54000.0</td>\n",
       "      <td>4.615121</td>\n",
       "      <td>2.99</td>\n",
       "      <td>0</td>\n",
       "      <td>0</td>\n",
       "      <td>0</td>\n",
       "      <td>0</td>\n",
       "      <td>0</td>\n",
       "      <td>0</td>\n",
       "      <td>...</td>\n",
       "      <td>0</td>\n",
       "      <td>0</td>\n",
       "      <td>0</td>\n",
       "      <td>0</td>\n",
       "      <td>0</td>\n",
       "      <td>0</td>\n",
       "      <td>0</td>\n",
       "      <td>0</td>\n",
       "      <td>0</td>\n",
       "      <td>0</td>\n",
       "    </tr>\n",
       "    <tr>\n",
       "      <th>9606</th>\n",
       "      <td>9.060563</td>\n",
       "      <td>46000.0</td>\n",
       "      <td>13.122365</td>\n",
       "      <td>0.00</td>\n",
       "      <td>0</td>\n",
       "      <td>0</td>\n",
       "      <td>0</td>\n",
       "      <td>0</td>\n",
       "      <td>0</td>\n",
       "      <td>0</td>\n",
       "      <td>...</td>\n",
       "      <td>0</td>\n",
       "      <td>0</td>\n",
       "      <td>0</td>\n",
       "      <td>0</td>\n",
       "      <td>0</td>\n",
       "      <td>0</td>\n",
       "      <td>0</td>\n",
       "      <td>0</td>\n",
       "      <td>0</td>\n",
       "      <td>0</td>\n",
       "    </tr>\n",
       "  </tbody>\n",
       "</table>\n",
       "<p>5 rows × 156 columns</p>\n",
       "</div>"
      ],
      "text/plain": [
       "        Reviews     Size   Installs  Price  Category_AUTO_AND_VEHICLES  \\\n",
       "2961  12.555542  14000.0  16.118096   0.00                           0   \n",
       "5802   9.668208  42000.0  13.815512   0.00                           0   \n",
       "5482   0.693147    655.0   2.397895   4.99                           0   \n",
       "6346   1.609438  54000.0   4.615121   2.99                           0   \n",
       "9606   9.060563  46000.0  13.122365   0.00                           0   \n",
       "\n",
       "      Category_BEAUTY  Category_BOOKS_AND_REFERENCE  Category_BUSINESS  \\\n",
       "2961                0                             0                  0   \n",
       "5802                0                             0                  0   \n",
       "5482                0                             0                  0   \n",
       "6346                0                             0                  0   \n",
       "9606                0                             0                  0   \n",
       "\n",
       "      Category_COMICS  Category_COMMUNICATION  ...  Genres_Tools  \\\n",
       "2961                0                       0  ...             0   \n",
       "5802                0                       0  ...             0   \n",
       "5482                0                       0  ...             0   \n",
       "6346                0                       0  ...             0   \n",
       "9606                0                       0  ...             0   \n",
       "\n",
       "      Genres_Tools_Education  Genres_Travel_&_Local  \\\n",
       "2961                       0                      0   \n",
       "5802                       0                      0   \n",
       "5482                       0                      0   \n",
       "6346                       0                      0   \n",
       "9606                       0                      0   \n",
       "\n",
       "      Genres_Travel_&_Local_Action_&_Adventure  Genres_Trivia  \\\n",
       "2961                                         0              0   \n",
       "5802                                         0              0   \n",
       "5482                                         0              0   \n",
       "6346                                         0              0   \n",
       "9606                                         0              0   \n",
       "\n",
       "      Genres_Video_Players_&_Editors  \\\n",
       "2961                               0   \n",
       "5802                               0   \n",
       "5482                               0   \n",
       "6346                               0   \n",
       "9606                               0   \n",
       "\n",
       "      Genres_Video_Players_&_Editors_Creativity  \\\n",
       "2961                                          0   \n",
       "5802                                          0   \n",
       "5482                                          0   \n",
       "6346                                          0   \n",
       "9606                                          0   \n",
       "\n",
       "      Genres_Video_Players_&_Editors_Music_&_Video  Genres_Weather  \\\n",
       "2961                                             0               0   \n",
       "5802                                             0               0   \n",
       "5482                                             0               0   \n",
       "6346                                             0               0   \n",
       "9606                                             0               0   \n",
       "\n",
       "      Genres_Word  \n",
       "2961            0  \n",
       "5802            0  \n",
       "5482            0  \n",
       "6346            0  \n",
       "9606            0  \n",
       "\n",
       "[5 rows x 156 columns]"
      ]
     },
     "execution_count": 68,
     "metadata": {},
     "output_type": "execute_result"
    }
   ],
   "source": [
    "X_train.head()"
   ]
  },
  {
   "cell_type": "code",
   "execution_count": 69,
   "id": "06c5a07e",
   "metadata": {},
   "outputs": [
    {
     "data": {
      "text/plain": [
       "2961    4.4\n",
       "5802    4.4\n",
       "5482    5.0\n",
       "6346    3.8\n",
       "9606    4.1\n",
       "Name: Rating, dtype: float64"
      ]
     },
     "execution_count": 69,
     "metadata": {},
     "output_type": "execute_result"
    }
   ],
   "source": [
    "y_train.head()"
   ]
  },
  {
   "cell_type": "code",
   "execution_count": 70,
   "id": "a947edec",
   "metadata": {},
   "outputs": [
    {
     "data": {
      "text/html": [
       "<div>\n",
       "<style scoped>\n",
       "    .dataframe tbody tr th:only-of-type {\n",
       "        vertical-align: middle;\n",
       "    }\n",
       "\n",
       "    .dataframe tbody tr th {\n",
       "        vertical-align: top;\n",
       "    }\n",
       "\n",
       "    .dataframe thead th {\n",
       "        text-align: right;\n",
       "    }\n",
       "</style>\n",
       "<table border=\"1\" class=\"dataframe\">\n",
       "  <thead>\n",
       "    <tr style=\"text-align: right;\">\n",
       "      <th></th>\n",
       "      <th>Reviews</th>\n",
       "      <th>Size</th>\n",
       "      <th>Installs</th>\n",
       "      <th>Price</th>\n",
       "      <th>Category_AUTO_AND_VEHICLES</th>\n",
       "      <th>Category_BEAUTY</th>\n",
       "      <th>Category_BOOKS_AND_REFERENCE</th>\n",
       "      <th>Category_BUSINESS</th>\n",
       "      <th>Category_COMICS</th>\n",
       "      <th>Category_COMMUNICATION</th>\n",
       "      <th>...</th>\n",
       "      <th>Genres_Tools</th>\n",
       "      <th>Genres_Tools_Education</th>\n",
       "      <th>Genres_Travel_&amp;_Local</th>\n",
       "      <th>Genres_Travel_&amp;_Local_Action_&amp;_Adventure</th>\n",
       "      <th>Genres_Trivia</th>\n",
       "      <th>Genres_Video_Players_&amp;_Editors</th>\n",
       "      <th>Genres_Video_Players_&amp;_Editors_Creativity</th>\n",
       "      <th>Genres_Video_Players_&amp;_Editors_Music_&amp;_Video</th>\n",
       "      <th>Genres_Weather</th>\n",
       "      <th>Genres_Word</th>\n",
       "    </tr>\n",
       "  </thead>\n",
       "  <tbody>\n",
       "    <tr>\n",
       "      <th>10208</th>\n",
       "      <td>8.763584</td>\n",
       "      <td>4200.0</td>\n",
       "      <td>11.512935</td>\n",
       "      <td>0.0</td>\n",
       "      <td>0</td>\n",
       "      <td>0</td>\n",
       "      <td>0</td>\n",
       "      <td>0</td>\n",
       "      <td>0</td>\n",
       "      <td>0</td>\n",
       "      <td>...</td>\n",
       "      <td>0</td>\n",
       "      <td>0</td>\n",
       "      <td>0</td>\n",
       "      <td>0</td>\n",
       "      <td>0</td>\n",
       "      <td>0</td>\n",
       "      <td>0</td>\n",
       "      <td>0</td>\n",
       "      <td>0</td>\n",
       "      <td>0</td>\n",
       "    </tr>\n",
       "    <tr>\n",
       "      <th>9804</th>\n",
       "      <td>6.851185</td>\n",
       "      <td>11000.0</td>\n",
       "      <td>10.819798</td>\n",
       "      <td>0.0</td>\n",
       "      <td>0</td>\n",
       "      <td>0</td>\n",
       "      <td>0</td>\n",
       "      <td>0</td>\n",
       "      <td>0</td>\n",
       "      <td>0</td>\n",
       "      <td>...</td>\n",
       "      <td>0</td>\n",
       "      <td>0</td>\n",
       "      <td>0</td>\n",
       "      <td>0</td>\n",
       "      <td>0</td>\n",
       "      <td>1</td>\n",
       "      <td>0</td>\n",
       "      <td>0</td>\n",
       "      <td>0</td>\n",
       "      <td>0</td>\n",
       "    </tr>\n",
       "    <tr>\n",
       "      <th>2193</th>\n",
       "      <td>10.545920</td>\n",
       "      <td>19000.0</td>\n",
       "      <td>16.118096</td>\n",
       "      <td>0.0</td>\n",
       "      <td>0</td>\n",
       "      <td>0</td>\n",
       "      <td>0</td>\n",
       "      <td>0</td>\n",
       "      <td>0</td>\n",
       "      <td>0</td>\n",
       "      <td>...</td>\n",
       "      <td>0</td>\n",
       "      <td>0</td>\n",
       "      <td>0</td>\n",
       "      <td>0</td>\n",
       "      <td>0</td>\n",
       "      <td>0</td>\n",
       "      <td>0</td>\n",
       "      <td>0</td>\n",
       "      <td>0</td>\n",
       "      <td>0</td>\n",
       "    </tr>\n",
       "    <tr>\n",
       "      <th>7557</th>\n",
       "      <td>6.212606</td>\n",
       "      <td>597.0</td>\n",
       "      <td>11.512935</td>\n",
       "      <td>0.0</td>\n",
       "      <td>0</td>\n",
       "      <td>0</td>\n",
       "      <td>0</td>\n",
       "      <td>0</td>\n",
       "      <td>0</td>\n",
       "      <td>0</td>\n",
       "      <td>...</td>\n",
       "      <td>1</td>\n",
       "      <td>0</td>\n",
       "      <td>0</td>\n",
       "      <td>0</td>\n",
       "      <td>0</td>\n",
       "      <td>0</td>\n",
       "      <td>0</td>\n",
       "      <td>0</td>\n",
       "      <td>0</td>\n",
       "      <td>0</td>\n",
       "    </tr>\n",
       "    <tr>\n",
       "      <th>6210</th>\n",
       "      <td>9.578726</td>\n",
       "      <td>21000.0</td>\n",
       "      <td>13.815512</td>\n",
       "      <td>0.0</td>\n",
       "      <td>0</td>\n",
       "      <td>0</td>\n",
       "      <td>0</td>\n",
       "      <td>0</td>\n",
       "      <td>0</td>\n",
       "      <td>0</td>\n",
       "      <td>...</td>\n",
       "      <td>0</td>\n",
       "      <td>0</td>\n",
       "      <td>0</td>\n",
       "      <td>0</td>\n",
       "      <td>0</td>\n",
       "      <td>0</td>\n",
       "      <td>0</td>\n",
       "      <td>0</td>\n",
       "      <td>0</td>\n",
       "      <td>0</td>\n",
       "    </tr>\n",
       "  </tbody>\n",
       "</table>\n",
       "<p>5 rows × 156 columns</p>\n",
       "</div>"
      ],
      "text/plain": [
       "         Reviews     Size   Installs  Price  Category_AUTO_AND_VEHICLES  \\\n",
       "10208   8.763584   4200.0  11.512935    0.0                           0   \n",
       "9804    6.851185  11000.0  10.819798    0.0                           0   \n",
       "2193   10.545920  19000.0  16.118096    0.0                           0   \n",
       "7557    6.212606    597.0  11.512935    0.0                           0   \n",
       "6210    9.578726  21000.0  13.815512    0.0                           0   \n",
       "\n",
       "       Category_BEAUTY  Category_BOOKS_AND_REFERENCE  Category_BUSINESS  \\\n",
       "10208                0                             0                  0   \n",
       "9804                 0                             0                  0   \n",
       "2193                 0                             0                  0   \n",
       "7557                 0                             0                  0   \n",
       "6210                 0                             0                  0   \n",
       "\n",
       "       Category_COMICS  Category_COMMUNICATION  ...  Genres_Tools  \\\n",
       "10208                0                       0  ...             0   \n",
       "9804                 0                       0  ...             0   \n",
       "2193                 0                       0  ...             0   \n",
       "7557                 0                       0  ...             1   \n",
       "6210                 0                       0  ...             0   \n",
       "\n",
       "       Genres_Tools_Education  Genres_Travel_&_Local  \\\n",
       "10208                       0                      0   \n",
       "9804                        0                      0   \n",
       "2193                        0                      0   \n",
       "7557                        0                      0   \n",
       "6210                        0                      0   \n",
       "\n",
       "       Genres_Travel_&_Local_Action_&_Adventure  Genres_Trivia  \\\n",
       "10208                                         0              0   \n",
       "9804                                          0              0   \n",
       "2193                                          0              0   \n",
       "7557                                          0              0   \n",
       "6210                                          0              0   \n",
       "\n",
       "       Genres_Video_Players_&_Editors  \\\n",
       "10208                               0   \n",
       "9804                                1   \n",
       "2193                                0   \n",
       "7557                                0   \n",
       "6210                                0   \n",
       "\n",
       "       Genres_Video_Players_&_Editors_Creativity  \\\n",
       "10208                                          0   \n",
       "9804                                           0   \n",
       "2193                                           0   \n",
       "7557                                           0   \n",
       "6210                                           0   \n",
       "\n",
       "       Genres_Video_Players_&_Editors_Music_&_Video  Genres_Weather  \\\n",
       "10208                                             0               0   \n",
       "9804                                              0               0   \n",
       "2193                                              0               0   \n",
       "7557                                              0               0   \n",
       "6210                                              0               0   \n",
       "\n",
       "       Genres_Word  \n",
       "10208            0  \n",
       "9804             0  \n",
       "2193             0  \n",
       "7557             0  \n",
       "6210             0  \n",
       "\n",
       "[5 rows x 156 columns]"
      ]
     },
     "execution_count": 70,
     "metadata": {},
     "output_type": "execute_result"
    }
   ],
   "source": [
    "X_test.head()"
   ]
  },
  {
   "cell_type": "code",
   "execution_count": 71,
   "id": "6bca6863",
   "metadata": {
    "scrolled": false
   },
   "outputs": [
    {
     "data": {
      "text/plain": [
       "10208    4.5\n",
       "9804     4.0\n",
       "2193     4.1\n",
       "7557     4.2\n",
       "6210     4.3\n",
       "Name: Rating, dtype: float64"
      ]
     },
     "execution_count": 71,
     "metadata": {},
     "output_type": "execute_result"
    }
   ],
   "source": [
    "y_test.head()"
   ]
  },
  {
   "cell_type": "code",
   "execution_count": 72,
   "id": "ddb534e6",
   "metadata": {},
   "outputs": [
    {
     "data": {
      "text/html": [
       "<div>\n",
       "<style scoped>\n",
       "    .dataframe tbody tr th:only-of-type {\n",
       "        vertical-align: middle;\n",
       "    }\n",
       "\n",
       "    .dataframe tbody tr th {\n",
       "        vertical-align: top;\n",
       "    }\n",
       "\n",
       "    .dataframe thead th {\n",
       "        text-align: right;\n",
       "    }\n",
       "</style>\n",
       "<table border=\"1\" class=\"dataframe\">\n",
       "  <thead>\n",
       "    <tr style=\"text-align: right;\">\n",
       "      <th></th>\n",
       "      <th>Model Name</th>\n",
       "      <th>Mean_Absolute_Error_MAE</th>\n",
       "      <th>Adj_R_Square</th>\n",
       "      <th>Root_Mean_Squared_Error_RMSE</th>\n",
       "      <th>Mean_Absolute_Percentage_Error_MAPE</th>\n",
       "      <th>Mean_Squared_Error_MSE</th>\n",
       "      <th>Root_Mean_Squared_Log_Error_RMSLE</th>\n",
       "      <th>R2_score</th>\n",
       "    </tr>\n",
       "  </thead>\n",
       "  <tbody>\n",
       "  </tbody>\n",
       "</table>\n",
       "</div>"
      ],
      "text/plain": [
       "Empty DataFrame\n",
       "Columns: [Model Name, Mean_Absolute_Error_MAE, Adj_R_Square, Root_Mean_Squared_Error_RMSE, Mean_Absolute_Percentage_Error_MAPE, Mean_Squared_Error_MSE, Root_Mean_Squared_Log_Error_RMSLE, R2_score]\n",
       "Index: []"
      ]
     },
     "execution_count": 72,
     "metadata": {},
     "output_type": "execute_result"
    }
   ],
   "source": [
    "a={'Model Name':[], 'Mean_Absolute_Error_MAE':[] ,'Adj_R_Square':[] ,'Root_Mean_Squared_Error_RMSE':[] ,'Mean_Absolute_Percentage_Error_MAPE':[] ,'Mean_Squared_Error_MSE':[] ,'Root_Mean_Squared_Log_Error_RMSLE':[] ,'R2_score':[]}\n",
    "Results=pd.DataFrame(a)\n",
    "Results.head()"
   ]
  },
  {
   "cell_type": "markdown",
   "id": "e6bc44b6",
   "metadata": {},
   "source": [
    "**Model 1: Using Simple Linear Regression model**"
   ]
  },
  {
   "cell_type": "code",
   "execution_count": 73,
   "id": "67df3f4a",
   "metadata": {},
   "outputs": [],
   "source": [
    "#Importing Linear Regression model\n",
    "from sklearn.linear_model import LinearRegression"
   ]
  },
  {
   "cell_type": "code",
   "execution_count": 74,
   "id": "15c87d76",
   "metadata": {},
   "outputs": [],
   "source": [
    "model1=LinearRegression()"
   ]
  },
  {
   "cell_type": "code",
   "execution_count": 75,
   "id": "60d5d0ea",
   "metadata": {},
   "outputs": [
    {
     "data": {
      "text/plain": [
       "LinearRegression()"
      ]
     },
     "execution_count": 75,
     "metadata": {},
     "output_type": "execute_result"
    }
   ],
   "source": [
    "#Training the model by exposing it to training data.\n",
    "model1.fit(X_train,y_train)"
   ]
  },
  {
   "cell_type": "code",
   "execution_count": 76,
   "id": "ae888e82",
   "metadata": {},
   "outputs": [],
   "source": [
    "#The model predicting the values of target from unexposed X_test data\n",
    "pre=model1.predict(X_test)"
   ]
  },
  {
   "cell_type": "code",
   "execution_count": 77,
   "id": "25c016c8",
   "metadata": {},
   "outputs": [
    {
     "data": {
      "text/plain": [
       "<matplotlib.collections.PathCollection at 0x21da57444f0>"
      ]
     },
     "execution_count": 77,
     "metadata": {},
     "output_type": "execute_result"
    },
    {
     "data": {
      "image/png": "[encoded data removed]",
      "text/plain": [
       "<Figure size 432x288 with 1 Axes>"
      ]
     },
     "metadata": {
      "needs_background": "light"
     },
     "output_type": "display_data"
    }
   ],
   "source": [
    "plt.scatter(pre,y_test)"
   ]
  },
  {
   "cell_type": "code",
   "execution_count": 78,
   "id": "df03d94e",
   "metadata": {},
   "outputs": [],
   "source": [
    "from sklearn.metrics import r2_score"
   ]
  },
  {
   "cell_type": "markdown",
   "id": "87b67a42",
   "metadata": {},
   "source": [
    "### The accuracy score is 16%. It means the model is not performed well."
   ]
  },
  {
   "cell_type": "code",
   "execution_count": 79,
   "id": "c9a093f1",
   "metadata": {
    "scrolled": true
   },
   "outputs": [
    {
     "data": {
      "text/plain": [
       "0.15940546064651007"
      ]
     },
     "execution_count": 79,
     "metadata": {},
     "output_type": "execute_result"
    }
   ],
   "source": [
    "r2_score(y_test,pre)"
   ]
  },
  {
   "cell_type": "code",
   "execution_count": 80,
   "id": "4594fd88",
   "metadata": {},
   "outputs": [
    {
     "name": "stdout",
     "output_type": "stream",
     "text": [
      "Model Name:  LinearRegression()\n",
      "Mean Absolute Error (MAE): 0.337\n",
      "Mean Squared Error (MSE): 0.232\n",
      "Root Mean Squared Error (RMSE): 0.482\n",
      "R2_score: 0.159405\n",
      "Root Mean Squared Log Error (RMSLE): -0.731\n",
      "Mean Absolute Percentage Error (MAPE): 9.41 %\n",
      "Adj R Square:  0.14437\n",
      "------------------------------------------------------------------------------------------------------------\n"
     ]
    }
   ],
   "source": [
    "print('Model Name: ', model1)\n",
    "    \n",
    "# Evaluation metrics for Regression analysis\n",
    "\n",
    "from sklearn import metrics\n",
    "\n",
    "print('Mean Absolute Error (MAE):', round(metrics.mean_absolute_error(y_test, pre),3))  \n",
    "print('Mean Squared Error (MSE):', round(metrics.mean_squared_error(y_test, pre),3))\n",
    "print('Root Mean Squared Error (RMSE):', round(np.sqrt(metrics.mean_squared_error(y_test, pre)),3))\n",
    "print('R2_score:', round(metrics.r2_score(y_test, pre),6))\n",
    "print('Root Mean Squared Log Error (RMSLE):', round(np.log(np.sqrt(metrics.mean_squared_error(y_test, pre))),3))\n",
    "    \n",
    "# Define the function to calculate the MAPE - Mean Absolute Percentage Error\n",
    "\n",
    "def MAPE (y_test, pre):\n",
    "        y_test, pre = np.array(y_test), np.array(pre)\n",
    "        return np.mean(np.abs((y_test - pre) / y_test)) * 100\n",
    "    \n",
    "# Evaluation of MAPE \n",
    "\n",
    "result = MAPE(y_test, pre)\n",
    "print('Mean Absolute Percentage Error (MAPE):', round(result, 2), '%')\n",
    "    \n",
    "# Calculate Adjusted R squared values \n",
    "\n",
    "r_squared = round(metrics.r2_score(y_test, pre),6)\n",
    "adjusted_r_squared = round(1 - (1-r_squared)*(len(y)-1)/(len(y)-X.shape[1]-1),6)\n",
    "print('Adj R Square: ', adjusted_r_squared)\n",
    "print('------------------------------------------------------------------------------------------------------------')\n",
    "#-------------------------------------------------------------------------------------------\n",
    "new_row = {'Model Name' : model1,\n",
    "               'Mean_Absolute_Error_MAE' : metrics.mean_absolute_error(y_test, pre),\n",
    "               'Adj_R_Square' : adjusted_r_squared,\n",
    "               'Root_Mean_Squared_Error_RMSE' : np.sqrt(metrics.mean_squared_error(y_test, pre)),\n",
    "               'Mean_Absolute_Percentage_Error_MAPE' : result,\n",
    "               'Mean_Squared_Error_MSE' : metrics.mean_squared_error(y_test, pre),\n",
    "               'Root_Mean_Squared_Log_Error_RMSLE': np.log(np.sqrt(metrics.mean_squared_error(y_test, pre))),\n",
    "               'R2_score' : metrics.r2_score(y_test, pre)}\n",
    "Results = Results.append(new_row, ignore_index=True)"
   ]
  },
  {
   "cell_type": "markdown",
   "id": "c37689d1",
   "metadata": {},
   "source": [
    "**Model 2: Using ordinary least squares(OLS) regression model**"
   ]
  },
  {
   "cell_type": "code",
   "execution_count": 81,
   "id": "8c408aab",
   "metadata": {},
   "outputs": [],
   "source": [
    "#Importing the statsmodel library\n",
    "import statsmodels.api as sm"
   ]
  },
  {
   "cell_type": "code",
   "execution_count": 82,
   "id": "db566b26",
   "metadata": {},
   "outputs": [],
   "source": [
    "#Applying linear regression\n",
    "model2 = sm.OLS(y_train, X_train)"
   ]
  },
  {
   "cell_type": "code",
   "execution_count": 83,
   "id": "c2e001c0",
   "metadata": {},
   "outputs": [],
   "source": [
    "model2 = model2.fit()"
   ]
  },
  {
   "cell_type": "markdown",
   "id": "e7579ed5",
   "metadata": {},
   "source": [
    "### The accuracy score is 98%. It means the model is predicting fairly well."
   ]
  },
  {
   "cell_type": "code",
   "execution_count": 84,
   "id": "29271e3e",
   "metadata": {},
   "outputs": [
    {
     "data": {
      "text/html": [
       "<table class=\"simpletable\">\n",
       "<caption>OLS Regression Results</caption>\n",
       "<tr>\n",
       "  <th>Dep. Variable:</th>         <td>Rating</td>      <th>  R-squared (uncentered):</th>      <td>   0.987</td>\n",
       "</tr>\n",
       "<tr>\n",
       "  <th>Model:</th>                   <td>OLS</td>       <th>  Adj. R-squared (uncentered):</th> <td>   0.987</td>\n",
       "</tr>\n",
       "<tr>\n",
       "  <th>Method:</th>             <td>Least Squares</td>  <th>  F-statistic:       </th>          <td>   3679.</td>\n",
       "</tr>\n",
       "<tr>\n",
       "  <th>Date:</th>             <td>Sat, 03 Sep 2022</td> <th>  Prob (F-statistic):</th>           <td>  0.00</td> \n",
       "</tr>\n",
       "<tr>\n",
       "  <th>Time:</th>                 <td>19:36:20</td>     <th>  Log-Likelihood:    </th>          <td> -4300.9</td>\n",
       "</tr>\n",
       "<tr>\n",
       "  <th>No. Observations:</th>      <td>  6215</td>      <th>  AIC:               </th>          <td>   8850.</td>\n",
       "</tr>\n",
       "<tr>\n",
       "  <th>Df Residuals:</th>          <td>  6091</td>      <th>  BIC:               </th>          <td>   9685.</td>\n",
       "</tr>\n",
       "<tr>\n",
       "  <th>Df Model:</th>              <td>   124</td>      <th>                     </th>              <td> </td>   \n",
       "</tr>\n",
       "<tr>\n",
       "  <th>Covariance Type:</th>      <td>nonrobust</td>    <th>                     </th>              <td> </td>   \n",
       "</tr>\n",
       "</table>\n",
       "<table class=\"simpletable\">\n",
       "<tr>\n",
       "                        <td></td>                          <th>coef</th>     <th>std err</th>      <th>t</th>      <th>P>|t|</th>  <th>[0.025</th>    <th>0.975]</th>  \n",
       "</tr>\n",
       "<tr>\n",
       "  <th>Reviews</th>                                      <td>    0.1636</td> <td>    0.006</td> <td>   26.026</td> <td> 0.000</td> <td>    0.151</td> <td>    0.176</td>\n",
       "</tr>\n",
       "<tr>\n",
       "  <th>Size</th>                                         <td>-4.403e-07</td> <td> 3.63e-07</td> <td>   -1.212</td> <td> 0.226</td> <td>-1.15e-06</td> <td> 2.72e-07</td>\n",
       "</tr>\n",
       "<tr>\n",
       "  <th>Installs</th>                                     <td>   -0.1372</td> <td>    0.006</td> <td>  -21.869</td> <td> 0.000</td> <td>   -0.149</td> <td>   -0.125</td>\n",
       "</tr>\n",
       "<tr>\n",
       "  <th>Price</th>                                        <td>   -0.0034</td> <td>    0.004</td> <td>   -0.930</td> <td> 0.352</td> <td>   -0.011</td> <td>    0.004</td>\n",
       "</tr>\n",
       "<tr>\n",
       "  <th>Category_AUTO_AND_VEHICLES</th>                   <td>    1.8292</td> <td>    0.134</td> <td>   13.689</td> <td> 0.000</td> <td>    1.567</td> <td>    2.091</td>\n",
       "</tr>\n",
       "<tr>\n",
       "  <th>Category_BEAUTY</th>                              <td>    1.9395</td> <td>    0.136</td> <td>   14.299</td> <td> 0.000</td> <td>    1.674</td> <td>    2.205</td>\n",
       "</tr>\n",
       "<tr>\n",
       "  <th>Category_BOOKS_AND_REFERENCE</th>                 <td>    1.9065</td> <td>    0.131</td> <td>   14.576</td> <td> 0.000</td> <td>    1.650</td> <td>    2.163</td>\n",
       "</tr>\n",
       "<tr>\n",
       "  <th>Category_BUSINESS</th>                            <td>    1.8217</td> <td>    0.130</td> <td>   14.020</td> <td> 0.000</td> <td>    1.567</td> <td>    2.076</td>\n",
       "</tr>\n",
       "<tr>\n",
       "  <th>Category_COMICS</th>                              <td>    2.6756</td> <td>    0.235</td> <td>   11.385</td> <td> 0.000</td> <td>    2.215</td> <td>    3.136</td>\n",
       "</tr>\n",
       "<tr>\n",
       "  <th>Category_COMMUNICATION</th>                       <td>    1.7825</td> <td>    0.130</td> <td>   13.683</td> <td> 0.000</td> <td>    1.527</td> <td>    2.038</td>\n",
       "</tr>\n",
       "<tr>\n",
       "  <th>Category_DATING</th>                              <td>    1.7288</td> <td>    0.131</td> <td>   13.153</td> <td> 0.000</td> <td>    1.471</td> <td>    1.986</td>\n",
       "</tr>\n",
       "<tr>\n",
       "  <th>Category_EDUCATION</th>                           <td>    3.3087</td> <td>    0.271</td> <td>   12.205</td> <td> 0.000</td> <td>    2.777</td> <td>    3.840</td>\n",
       "</tr>\n",
       "<tr>\n",
       "  <th>Category_ENTERTAINMENT</th>                       <td>    3.2196</td> <td>    0.271</td> <td>   11.862</td> <td> 0.000</td> <td>    2.688</td> <td>    3.752</td>\n",
       "</tr>\n",
       "<tr>\n",
       "  <th>Category_EVENTS</th>                              <td>    1.9635</td> <td>    0.136</td> <td>   14.462</td> <td> 0.000</td> <td>    1.697</td> <td>    2.230</td>\n",
       "</tr>\n",
       "<tr>\n",
       "  <th>Category_FAMILY</th>                              <td>    3.3326</td> <td>    0.264</td> <td>   12.604</td> <td> 0.000</td> <td>    2.814</td> <td>    3.851</td>\n",
       "</tr>\n",
       "<tr>\n",
       "  <th>Category_FINANCE</th>                             <td>    1.7992</td> <td>    0.130</td> <td>   13.848</td> <td> 0.000</td> <td>    1.544</td> <td>    2.054</td>\n",
       "</tr>\n",
       "<tr>\n",
       "  <th>Category_FOOD_AND_DRINK</th>                      <td>    1.8219</td> <td>    0.132</td> <td>   13.784</td> <td> 0.000</td> <td>    1.563</td> <td>    2.081</td>\n",
       "</tr>\n",
       "<tr>\n",
       "  <th>Category_GAME</th>                                <td>    3.6005</td> <td>    0.260</td> <td>   13.872</td> <td> 0.000</td> <td>    3.092</td> <td>    4.109</td>\n",
       "</tr>\n",
       "<tr>\n",
       "  <th>Category_HEALTH_AND_FITNESS</th>                  <td>    1.8515</td> <td>    0.130</td> <td>   14.233</td> <td> 0.000</td> <td>    1.597</td> <td>    2.107</td>\n",
       "</tr>\n",
       "<tr>\n",
       "  <th>Category_HOUSE_AND_HOME</th>                      <td>    1.8434</td> <td>    0.133</td> <td>   13.870</td> <td> 0.000</td> <td>    1.583</td> <td>    2.104</td>\n",
       "</tr>\n",
       "<tr>\n",
       "  <th>Category_LIBRARIES_AND_DEMO</th>                  <td>    1.8658</td> <td>    0.134</td> <td>   13.919</td> <td> 0.000</td> <td>    1.603</td> <td>    2.129</td>\n",
       "</tr>\n",
       "<tr>\n",
       "  <th>Category_LIFESTYLE</th>                           <td>    2.3479</td> <td>    0.237</td> <td>    9.887</td> <td> 0.000</td> <td>    1.882</td> <td>    2.813</td>\n",
       "</tr>\n",
       "<tr>\n",
       "  <th>Category_MAPS_AND_NAVIGATION</th>                 <td>    1.7699</td> <td>    0.132</td> <td>   13.442</td> <td> 0.000</td> <td>    1.512</td> <td>    2.028</td>\n",
       "</tr>\n",
       "<tr>\n",
       "  <th>Category_MEDICAL</th>                             <td>    1.8552</td> <td>    0.130</td> <td>   14.282</td> <td> 0.000</td> <td>    1.601</td> <td>    2.110</td>\n",
       "</tr>\n",
       "<tr>\n",
       "  <th>Category_NEWS_AND_MAGAZINES</th>                  <td>    1.7645</td> <td>    0.130</td> <td>   13.544</td> <td> 0.000</td> <td>    1.509</td> <td>    2.020</td>\n",
       "</tr>\n",
       "<tr>\n",
       "  <th>Category_PARENTING</th>                           <td>    2.8631</td> <td>    0.216</td> <td>   13.240</td> <td> 0.000</td> <td>    2.439</td> <td>    3.287</td>\n",
       "</tr>\n",
       "<tr>\n",
       "  <th>Category_PERSONALIZATION</th>                     <td>    1.8904</td> <td>    0.130</td> <td>   14.534</td> <td> 0.000</td> <td>    1.635</td> <td>    2.145</td>\n",
       "</tr>\n",
       "<tr>\n",
       "  <th>Category_PHOTOGRAPHY</th>                         <td>    1.8059</td> <td>    0.130</td> <td>   13.863</td> <td> 0.000</td> <td>    1.551</td> <td>    2.061</td>\n",
       "</tr>\n",
       "<tr>\n",
       "  <th>Category_PRODUCTIVITY</th>                        <td>    1.8297</td> <td>    0.130</td> <td>   14.070</td> <td> 0.000</td> <td>    1.575</td> <td>    2.085</td>\n",
       "</tr>\n",
       "<tr>\n",
       "  <th>Category_SHOPPING</th>                            <td>    1.8251</td> <td>    0.131</td> <td>   13.978</td> <td> 0.000</td> <td>    1.569</td> <td>    2.081</td>\n",
       "</tr>\n",
       "<tr>\n",
       "  <th>Category_SOCIAL</th>                              <td>    1.8303</td> <td>    0.130</td> <td>   14.041</td> <td> 0.000</td> <td>    1.575</td> <td>    2.086</td>\n",
       "</tr>\n",
       "<tr>\n",
       "  <th>Category_SPORTS</th>                              <td>    3.4378</td> <td>    0.384</td> <td>    8.959</td> <td> 0.000</td> <td>    2.686</td> <td>    4.190</td>\n",
       "</tr>\n",
       "<tr>\n",
       "  <th>Category_TOOLS</th>                               <td>    2.4308</td> <td>    0.237</td> <td>   10.256</td> <td> 0.000</td> <td>    1.966</td> <td>    2.895</td>\n",
       "</tr>\n",
       "<tr>\n",
       "  <th>Category_TRAVEL_AND_LOCAL</th>                    <td>    2.4147</td> <td>    0.237</td> <td>   10.177</td> <td> 0.000</td> <td>    1.950</td> <td>    2.880</td>\n",
       "</tr>\n",
       "<tr>\n",
       "  <th>Category_VIDEO_PLAYERS</th>                       <td>    3.3326</td> <td>    0.555</td> <td>    6.002</td> <td> 0.000</td> <td>    2.244</td> <td>    4.421</td>\n",
       "</tr>\n",
       "<tr>\n",
       "  <th>Category_WEATHER</th>                             <td>    1.8254</td> <td>    0.133</td> <td>   13.723</td> <td> 0.000</td> <td>    1.565</td> <td>    2.086</td>\n",
       "</tr>\n",
       "<tr>\n",
       "  <th>Type_Paid</th>                                    <td>   -0.0289</td> <td>    0.033</td> <td>   -0.876</td> <td> 0.381</td> <td>   -0.093</td> <td>    0.036</td>\n",
       "</tr>\n",
       "<tr>\n",
       "  <th>Content_Rating_Everyone</th>                      <td>    0.8855</td> <td>    0.257</td> <td>    3.451</td> <td> 0.001</td> <td>    0.383</td> <td>    1.388</td>\n",
       "</tr>\n",
       "<tr>\n",
       "  <th>Content_Rating_Everyone_10+</th>                  <td>    0.8484</td> <td>    0.258</td> <td>    3.283</td> <td> 0.001</td> <td>    0.342</td> <td>    1.355</td>\n",
       "</tr>\n",
       "<tr>\n",
       "  <th>Content_Rating_Mature_17+</th>                    <td>    0.8570</td> <td>    0.259</td> <td>    3.312</td> <td> 0.001</td> <td>    0.350</td> <td>    1.364</td>\n",
       "</tr>\n",
       "<tr>\n",
       "  <th>Content_Rating_Teen</th>                          <td>    0.8948</td> <td>    0.257</td> <td>    3.484</td> <td> 0.000</td> <td>    0.391</td> <td>    1.398</td>\n",
       "</tr>\n",
       "<tr>\n",
       "  <th>Content_Rating_Unrated</th>                       <td>    0.8831</td> <td>    0.552</td> <td>    1.600</td> <td> 0.110</td> <td>   -0.199</td> <td>    1.965</td>\n",
       "</tr>\n",
       "<tr>\n",
       "  <th>Genres_Action_Action_&_Adventure</th>             <td>    0.3586</td> <td>    0.168</td> <td>    2.136</td> <td> 0.033</td> <td>    0.029</td> <td>    0.688</td>\n",
       "</tr>\n",
       "<tr>\n",
       "  <th>Genres_Adventure</th>                             <td>   -0.0400</td> <td>    0.074</td> <td>   -0.542</td> <td> 0.588</td> <td>   -0.185</td> <td>    0.105</td>\n",
       "</tr>\n",
       "<tr>\n",
       "  <th>Genres_Adventure_Action_&_Adventure</th>          <td>    0.2208</td> <td>    0.293</td> <td>    0.753</td> <td> 0.451</td> <td>   -0.354</td> <td>    0.795</td>\n",
       "</tr>\n",
       "<tr>\n",
       "  <th>Genres_Adventure_Brain_Games</th>                 <td>    0.5518</td> <td>    0.495</td> <td>    1.114</td> <td> 0.265</td> <td>   -0.419</td> <td>    1.522</td>\n",
       "</tr>\n",
       "<tr>\n",
       "  <th>Genres_Adventure_Education</th>                   <td>    0.0764</td> <td>    0.495</td> <td>    0.154</td> <td> 0.877</td> <td>   -0.894</td> <td>    1.047</td>\n",
       "</tr>\n",
       "<tr>\n",
       "  <th>Genres_Arcade</th>                                <td>    0.0448</td> <td>    0.057</td> <td>    0.782</td> <td> 0.434</td> <td>   -0.068</td> <td>    0.157</td>\n",
       "</tr>\n",
       "<tr>\n",
       "  <th>Genres_Arcade_Action_&_Adventure</th>             <td>    0.3325</td> <td>    0.173</td> <td>    1.923</td> <td> 0.054</td> <td>   -0.006</td> <td>    0.671</td>\n",
       "</tr>\n",
       "<tr>\n",
       "  <th>Genres_Arcade_Pretend_Play</th>                   <td>-5.063e-14</td> <td> 2.72e-13</td> <td>   -0.186</td> <td> 0.852</td> <td>-5.84e-13</td> <td> 4.82e-13</td>\n",
       "</tr>\n",
       "<tr>\n",
       "  <th>Genres_Art_&_Design</th>                          <td>    3.9522</td> <td>    0.268</td> <td>   14.739</td> <td> 0.000</td> <td>    3.427</td> <td>    4.478</td>\n",
       "</tr>\n",
       "<tr>\n",
       "  <th>Genres_Art_&_Design_Creativity</th>               <td>    2.8705</td> <td>    0.313</td> <td>    9.167</td> <td> 0.000</td> <td>    2.257</td> <td>    3.484</td>\n",
       "</tr>\n",
       "<tr>\n",
       "  <th>Genres_Art_&_Design_Pretend_Play</th>             <td>    3.6958</td> <td>    0.553</td> <td>    6.685</td> <td> 0.000</td> <td>    2.612</td> <td>    4.780</td>\n",
       "</tr>\n",
       "<tr>\n",
       "  <th>Genres_Auto_&_Vehicles</th>                       <td>    1.8292</td> <td>    0.134</td> <td>   13.689</td> <td> 0.000</td> <td>    1.567</td> <td>    2.091</td>\n",
       "</tr>\n",
       "<tr>\n",
       "  <th>Genres_Beauty</th>                                <td>    1.9395</td> <td>    0.136</td> <td>   14.299</td> <td> 0.000</td> <td>    1.674</td> <td>    2.205</td>\n",
       "</tr>\n",
       "<tr>\n",
       "  <th>Genres_Board</th>                                 <td>    0.0709</td> <td>    0.102</td> <td>    0.692</td> <td> 0.489</td> <td>   -0.130</td> <td>    0.272</td>\n",
       "</tr>\n",
       "<tr>\n",
       "  <th>Genres_Board_Action_&_Adventure</th>              <td>    0.2352</td> <td>    0.354</td> <td>    0.664</td> <td> 0.507</td> <td>   -0.459</td> <td>    0.930</td>\n",
       "</tr>\n",
       "<tr>\n",
       "  <th>Genres_Board_Brain_Games</th>                     <td>    0.4253</td> <td>    0.157</td> <td>    2.716</td> <td> 0.007</td> <td>    0.118</td> <td>    0.732</td>\n",
       "</tr>\n",
       "<tr>\n",
       "  <th>Genres_Board_Pretend_Play</th>                    <td> 1.006e-15</td> <td> 7.43e-14</td> <td>    0.014</td> <td> 0.989</td> <td>-1.45e-13</td> <td> 1.47e-13</td>\n",
       "</tr>\n",
       "<tr>\n",
       "  <th>Genres_Books_&_Reference</th>                     <td>    1.9065</td> <td>    0.131</td> <td>   14.576</td> <td> 0.000</td> <td>    1.650</td> <td>    2.163</td>\n",
       "</tr>\n",
       "<tr>\n",
       "  <th>Genres_Books_&_Reference_Education</th>           <td>    0.3140</td> <td>    0.354</td> <td>    0.887</td> <td> 0.375</td> <td>   -0.380</td> <td>    1.008</td>\n",
       "</tr>\n",
       "<tr>\n",
       "  <th>Genres_Business</th>                              <td>    1.8217</td> <td>    0.130</td> <td>   14.020</td> <td> 0.000</td> <td>    1.567</td> <td>    2.076</td>\n",
       "</tr>\n",
       "<tr>\n",
       "  <th>Genres_Card</th>                                  <td>   -0.0880</td> <td>    0.093</td> <td>   -0.948</td> <td> 0.343</td> <td>   -0.270</td> <td>    0.094</td>\n",
       "</tr>\n",
       "<tr>\n",
       "  <th>Genres_Card_Action_&_Adventure</th>               <td>    0.0955</td> <td>    0.495</td> <td>    0.193</td> <td> 0.847</td> <td>   -0.875</td> <td>    1.066</td>\n",
       "</tr>\n",
       "<tr>\n",
       "  <th>Genres_Card_Brain_Games</th>                      <td>    0.7041</td> <td>    0.495</td> <td>    1.424</td> <td> 0.155</td> <td>   -0.265</td> <td>    1.674</td>\n",
       "</tr>\n",
       "<tr>\n",
       "  <th>Genres_Casino</th>                                <td>    0.0775</td> <td>    0.102</td> <td>    0.760</td> <td> 0.447</td> <td>   -0.123</td> <td>    0.278</td>\n",
       "</tr>\n",
       "<tr>\n",
       "  <th>Genres_Casual</th>                                <td>    0.1594</td> <td>    0.084</td> <td>    1.903</td> <td> 0.057</td> <td>   -0.005</td> <td>    0.324</td>\n",
       "</tr>\n",
       "<tr>\n",
       "  <th>Genres_Casual_Action_&_Adventure</th>             <td>    0.2107</td> <td>    0.161</td> <td>    1.307</td> <td> 0.191</td> <td>   -0.105</td> <td>    0.527</td>\n",
       "</tr>\n",
       "<tr>\n",
       "  <th>Genres_Casual_Brain_Games</th>                    <td>    0.4832</td> <td>    0.228</td> <td>    2.116</td> <td> 0.034</td> <td>    0.036</td> <td>    0.931</td>\n",
       "</tr>\n",
       "<tr>\n",
       "  <th>Genres_Casual_Creativity</th>                     <td>    0.3322</td> <td>    0.228</td> <td>    1.454</td> <td> 0.146</td> <td>   -0.116</td> <td>    0.780</td>\n",
       "</tr>\n",
       "<tr>\n",
       "  <th>Genres_Casual_Education</th>                      <td>    0.3836</td> <td>    0.293</td> <td>    1.311</td> <td> 0.190</td> <td>   -0.190</td> <td>    0.957</td>\n",
       "</tr>\n",
       "<tr>\n",
       "  <th>Genres_Casual_Music_&_Video</th>                  <td>    0.3759</td> <td>    0.495</td> <td>    0.760</td> <td> 0.447</td> <td>   -0.594</td> <td>    1.346</td>\n",
       "</tr>\n",
       "<tr>\n",
       "  <th>Genres_Casual_Pretend_Play</th>                   <td>    0.2208</td> <td>    0.133</td> <td>    1.662</td> <td> 0.097</td> <td>   -0.040</td> <td>    0.481</td>\n",
       "</tr>\n",
       "<tr>\n",
       "  <th>Genres_Comics</th>                                <td>    0.9694</td> <td>    0.188</td> <td>    5.168</td> <td> 0.000</td> <td>    0.602</td> <td>    1.337</td>\n",
       "</tr>\n",
       "<tr>\n",
       "  <th>Genres_Comics_Creativity</th>                     <td>    1.7062</td> <td>    0.339</td> <td>    5.034</td> <td> 0.000</td> <td>    1.042</td> <td>    2.371</td>\n",
       "</tr>\n",
       "<tr>\n",
       "  <th>Genres_Communication</th>                         <td>    1.7825</td> <td>    0.130</td> <td>   13.683</td> <td> 0.000</td> <td>    1.527</td> <td>    2.038</td>\n",
       "</tr>\n",
       "<tr>\n",
       "  <th>Genres_Communication_Creativity</th>              <td>    0.4540</td> <td>    0.495</td> <td>    0.918</td> <td> 0.359</td> <td>   -0.516</td> <td>    1.424</td>\n",
       "</tr>\n",
       "<tr>\n",
       "  <th>Genres_Dating</th>                                <td>    1.7288</td> <td>    0.131</td> <td>   13.153</td> <td> 0.000</td> <td>    1.471</td> <td>    1.986</td>\n",
       "</tr>\n",
       "<tr>\n",
       "  <th>Genres_Education</th>                             <td>    0.4885</td> <td>    0.084</td> <td>    5.793</td> <td> 0.000</td> <td>    0.323</td> <td>    0.654</td>\n",
       "</tr>\n",
       "<tr>\n",
       "  <th>Genres_Education_Action_&_Adventure</th>          <td>    0.7087</td> <td>    0.257</td> <td>    2.757</td> <td> 0.006</td> <td>    0.205</td> <td>    1.213</td>\n",
       "</tr>\n",
       "<tr>\n",
       "  <th>Genres_Education_Brain_Games</th>                 <td>    0.3664</td> <td>    0.295</td> <td>    1.241</td> <td> 0.214</td> <td>   -0.212</td> <td>    0.945</td>\n",
       "</tr>\n",
       "<tr>\n",
       "  <th>Genres_Education_Creativity</th>                  <td>    0.7572</td> <td>    0.235</td> <td>    3.224</td> <td> 0.001</td> <td>    0.297</td> <td>    1.218</td>\n",
       "</tr>\n",
       "<tr>\n",
       "  <th>Genres_Education_Education</th>                   <td>    0.5085</td> <td>    0.117</td> <td>    4.334</td> <td> 0.000</td> <td>    0.278</td> <td>    0.738</td>\n",
       "</tr>\n",
       "<tr>\n",
       "  <th>Genres_Education_Music_&_Video</th>               <td>    0.3273</td> <td>    0.354</td> <td>    0.924</td> <td> 0.355</td> <td>   -0.367</td> <td>    1.021</td>\n",
       "</tr>\n",
       "<tr>\n",
       "  <th>Genres_Education_Pretend_Play</th>                <td>    0.5890</td> <td>    0.146</td> <td>    4.037</td> <td> 0.000</td> <td>    0.303</td> <td>    0.875</td>\n",
       "</tr>\n",
       "<tr>\n",
       "  <th>Genres_Educational</th>                           <td>    0.2112</td> <td>    0.123</td> <td>    1.717</td> <td> 0.086</td> <td>   -0.030</td> <td>    0.452</td>\n",
       "</tr>\n",
       "<tr>\n",
       "  <th>Genres_Educational_Action_&_Adventure</th>        <td>    0.3513</td> <td>    0.354</td> <td>    0.992</td> <td> 0.321</td> <td>   -0.343</td> <td>    1.046</td>\n",
       "</tr>\n",
       "<tr>\n",
       "  <th>Genres_Educational_Brain_Games</th>               <td>    0.5382</td> <td>    0.214</td> <td>    2.509</td> <td> 0.012</td> <td>    0.118</td> <td>    0.959</td>\n",
       "</tr>\n",
       "<tr>\n",
       "  <th>Genres_Educational_Creativity</th>                <td>    0.1890</td> <td>    0.257</td> <td>    0.736</td> <td> 0.462</td> <td>   -0.314</td> <td>    0.692</td>\n",
       "</tr>\n",
       "<tr>\n",
       "  <th>Genres_Educational_Education</th>                 <td>    0.5271</td> <td>    0.121</td> <td>    4.353</td> <td> 0.000</td> <td>    0.290</td> <td>    0.765</td>\n",
       "</tr>\n",
       "<tr>\n",
       "  <th>Genres_Educational_Pretend_Play</th>              <td>    0.4114</td> <td>    0.174</td> <td>    2.371</td> <td> 0.018</td> <td>    0.071</td> <td>    0.752</td>\n",
       "</tr>\n",
       "<tr>\n",
       "  <th>Genres_Entertainment</th>                         <td>    0.2748</td> <td>    0.083</td> <td>    3.292</td> <td> 0.001</td> <td>    0.111</td> <td>    0.438</td>\n",
       "</tr>\n",
       "<tr>\n",
       "  <th>Genres_Entertainment_Action_&_Adventure</th>      <td>    0.2425</td> <td>    0.495</td> <td>    0.490</td> <td> 0.624</td> <td>   -0.727</td> <td>    1.212</td>\n",
       "</tr>\n",
       "<tr>\n",
       "  <th>Genres_Entertainment_Brain_Games</th>             <td>    0.3907</td> <td>    0.201</td> <td>    1.940</td> <td> 0.052</td> <td>   -0.004</td> <td>    0.786</td>\n",
       "</tr>\n",
       "<tr>\n",
       "  <th>Genres_Entertainment_Creativity</th>              <td>    0.6625</td> <td>    0.294</td> <td>    2.257</td> <td> 0.024</td> <td>    0.087</td> <td>    1.238</td>\n",
       "</tr>\n",
       "<tr>\n",
       "  <th>Genres_Entertainment_Education</th>               <td>    0.6256</td> <td>    0.495</td> <td>    1.265</td> <td> 0.206</td> <td>   -0.344</td> <td>    1.595</td>\n",
       "</tr>\n",
       "<tr>\n",
       "  <th>Genres_Entertainment_Music_&_Video</th>           <td>    0.4012</td> <td>    0.137</td> <td>    2.938</td> <td> 0.003</td> <td>    0.133</td> <td>    0.669</td>\n",
       "</tr>\n",
       "<tr>\n",
       "  <th>Genres_Entertainment_Pretend_Play</th>            <td>    0.2432</td> <td>    0.495</td> <td>    0.492</td> <td> 0.623</td> <td>   -0.727</td> <td>    1.213</td>\n",
       "</tr>\n",
       "<tr>\n",
       "  <th>Genres_Events</th>                                <td>    1.9635</td> <td>    0.136</td> <td>   14.462</td> <td> 0.000</td> <td>    1.697</td> <td>    2.230</td>\n",
       "</tr>\n",
       "<tr>\n",
       "  <th>Genres_Finance</th>                               <td>    1.7992</td> <td>    0.130</td> <td>   13.848</td> <td> 0.000</td> <td>    1.544</td> <td>    2.054</td>\n",
       "</tr>\n",
       "<tr>\n",
       "  <th>Genres_Food_&_Drink</th>                          <td>    1.8219</td> <td>    0.132</td> <td>   13.784</td> <td> 0.000</td> <td>    1.563</td> <td>    2.081</td>\n",
       "</tr>\n",
       "<tr>\n",
       "  <th>Genres_Health_&_Fitness</th>                      <td>    1.8515</td> <td>    0.130</td> <td>   14.233</td> <td> 0.000</td> <td>    1.597</td> <td>    2.107</td>\n",
       "</tr>\n",
       "<tr>\n",
       "  <th>Genres_Health_&_Fitness_Action_&_Adventure</th>   <td>-1.696e-14</td> <td> 8.31e-14</td> <td>   -0.204</td> <td> 0.838</td> <td> -1.8e-13</td> <td> 1.46e-13</td>\n",
       "</tr>\n",
       "<tr>\n",
       "  <th>Genres_Health_&_Fitness_Education</th>            <td>    0.5809</td> <td>    0.495</td> <td>    1.174</td> <td> 0.240</td> <td>   -0.389</td> <td>    1.551</td>\n",
       "</tr>\n",
       "<tr>\n",
       "  <th>Genres_House_&_Home</th>                          <td>    1.8434</td> <td>    0.133</td> <td>   13.870</td> <td> 0.000</td> <td>    1.583</td> <td>    2.104</td>\n",
       "</tr>\n",
       "<tr>\n",
       "  <th>Genres_Libraries_&_Demo</th>                      <td>    1.8658</td> <td>    0.134</td> <td>   13.919</td> <td> 0.000</td> <td>    1.603</td> <td>    2.129</td>\n",
       "</tr>\n",
       "<tr>\n",
       "  <th>Genres_Lifestyle</th>                             <td>    1.2661</td> <td>    0.186</td> <td>    6.824</td> <td> 0.000</td> <td>    0.902</td> <td>    1.630</td>\n",
       "</tr>\n",
       "<tr>\n",
       "  <th>Genres_Lifestyle_Education</th>                   <td>    0.3496</td> <td>    0.495</td> <td>    0.707</td> <td> 0.480</td> <td>   -0.620</td> <td>    1.319</td>\n",
       "</tr>\n",
       "<tr>\n",
       "  <th>Genres_Lifestyle_Pretend_Play</th>                <td>    1.0818</td> <td>    0.338</td> <td>    3.203</td> <td> 0.001</td> <td>    0.420</td> <td>    1.744</td>\n",
       "</tr>\n",
       "<tr>\n",
       "  <th>Genres_Maps_&_Navigation</th>                     <td>    1.7699</td> <td>    0.132</td> <td>   13.442</td> <td> 0.000</td> <td>    1.512</td> <td>    2.028</td>\n",
       "</tr>\n",
       "<tr>\n",
       "  <th>Genres_Medical</th>                               <td>    1.8552</td> <td>    0.130</td> <td>   14.282</td> <td> 0.000</td> <td>    1.601</td> <td>    2.110</td>\n",
       "</tr>\n",
       "<tr>\n",
       "  <th>Genres_Music</th>                                 <td>   -0.1438</td> <td>    0.145</td> <td>   -0.990</td> <td> 0.322</td> <td>   -0.429</td> <td>    0.141</td>\n",
       "</tr>\n",
       "<tr>\n",
       "  <th>Genres_Music_&_Audio_Music_&_Video</th>           <td>-3.194e-14</td> <td> 2.43e-13</td> <td>   -0.132</td> <td> 0.895</td> <td>-5.08e-13</td> <td> 4.44e-13</td>\n",
       "</tr>\n",
       "<tr>\n",
       "  <th>Genres_Music_Music_&_Video</th>                   <td>    0.6057</td> <td>    0.293</td> <td>    2.070</td> <td> 0.038</td> <td>    0.032</td> <td>    1.179</td>\n",
       "</tr>\n",
       "<tr>\n",
       "  <th>Genres_News_&_Magazines</th>                      <td>    1.7645</td> <td>    0.130</td> <td>   13.544</td> <td> 0.000</td> <td>    1.509</td> <td>    2.020</td>\n",
       "</tr>\n",
       "<tr>\n",
       "  <th>Genres_Parenting</th>                             <td>    0.9992</td> <td>    0.129</td> <td>    7.718</td> <td> 0.000</td> <td>    0.745</td> <td>    1.253</td>\n",
       "</tr>\n",
       "<tr>\n",
       "  <th>Genres_Parenting_Brain_Games</th>                 <td> 2.412e-14</td> <td> 1.58e-13</td> <td>    0.152</td> <td> 0.879</td> <td>-2.86e-13</td> <td> 3.35e-13</td>\n",
       "</tr>\n",
       "<tr>\n",
       "  <th>Genres_Parenting_Education</th>                   <td>    0.6730</td> <td>    0.230</td> <td>    2.920</td> <td> 0.004</td> <td>    0.221</td> <td>    1.125</td>\n",
       "</tr>\n",
       "<tr>\n",
       "  <th>Genres_Parenting_Music_&_Video</th>               <td>    1.1909</td> <td>    0.208</td> <td>    5.733</td> <td> 0.000</td> <td>    0.784</td> <td>    1.598</td>\n",
       "</tr>\n",
       "<tr>\n",
       "  <th>Genres_Personalization</th>                       <td>    1.8904</td> <td>    0.130</td> <td>   14.534</td> <td> 0.000</td> <td>    1.635</td> <td>    2.145</td>\n",
       "</tr>\n",
       "<tr>\n",
       "  <th>Genres_Photography</th>                           <td>    1.8059</td> <td>    0.130</td> <td>   13.863</td> <td> 0.000</td> <td>    1.551</td> <td>    2.061</td>\n",
       "</tr>\n",
       "<tr>\n",
       "  <th>Genres_Productivity</th>                          <td>    1.8297</td> <td>    0.130</td> <td>   14.070</td> <td> 0.000</td> <td>    1.575</td> <td>    2.085</td>\n",
       "</tr>\n",
       "<tr>\n",
       "  <th>Genres_Puzzle</th>                                <td>    0.3473</td> <td>    0.083</td> <td>    4.187</td> <td> 0.000</td> <td>    0.185</td> <td>    0.510</td>\n",
       "</tr>\n",
       "<tr>\n",
       "  <th>Genres_Puzzle_Action_&_Adventure</th>             <td>    0.3445</td> <td>    0.257</td> <td>    1.342</td> <td> 0.180</td> <td>   -0.159</td> <td>    0.848</td>\n",
       "</tr>\n",
       "<tr>\n",
       "  <th>Genres_Puzzle_Brain_Games</th>                    <td>    0.4106</td> <td>    0.149</td> <td>    2.764</td> <td> 0.006</td> <td>    0.119</td> <td>    0.702</td>\n",
       "</tr>\n",
       "<tr>\n",
       "  <th>Genres_Puzzle_Creativity</th>                     <td>    0.4246</td> <td>    0.354</td> <td>    1.199</td> <td> 0.231</td> <td>   -0.270</td> <td>    1.119</td>\n",
       "</tr>\n",
       "<tr>\n",
       "  <th>Genres_Puzzle_Education</th>                      <td>    0.8702</td> <td>    0.495</td> <td>    1.760</td> <td> 0.079</td> <td>   -0.099</td> <td>    1.840</td>\n",
       "</tr>\n",
       "<tr>\n",
       "  <th>Genres_Racing</th>                                <td>   -0.0723</td> <td>    0.075</td> <td>   -0.969</td> <td> 0.333</td> <td>   -0.219</td> <td>    0.074</td>\n",
       "</tr>\n",
       "<tr>\n",
       "  <th>Genres_Racing_Action_&_Adventure</th>             <td>    0.4211</td> <td>    0.153</td> <td>    2.758</td> <td> 0.006</td> <td>    0.122</td> <td>    0.720</td>\n",
       "</tr>\n",
       "<tr>\n",
       "  <th>Genres_Racing_Pretend_Play</th>                   <td>    0.9499</td> <td>    0.495</td> <td>    1.919</td> <td> 0.055</td> <td>   -0.020</td> <td>    1.920</td>\n",
       "</tr>\n",
       "<tr>\n",
       "  <th>Genres_Role_Playing</th>                          <td>    0.1814</td> <td>    0.090</td> <td>    2.008</td> <td> 0.045</td> <td>    0.004</td> <td>    0.359</td>\n",
       "</tr>\n",
       "<tr>\n",
       "  <th>Genres_Role_Playing_Action_&_Adventure</th>       <td>    0.1597</td> <td>    0.232</td> <td>    0.687</td> <td> 0.492</td> <td>   -0.296</td> <td>    0.615</td>\n",
       "</tr>\n",
       "<tr>\n",
       "  <th>Genres_Role_Playing_Brain_Games</th>              <td>         0</td> <td>        0</td> <td>      nan</td> <td>   nan</td> <td>        0</td> <td>        0</td>\n",
       "</tr>\n",
       "<tr>\n",
       "  <th>Genres_Role_Playing_Pretend_Play</th>             <td>    0.2004</td> <td>    0.232</td> <td>    0.862</td> <td> 0.389</td> <td>   -0.255</td> <td>    0.656</td>\n",
       "</tr>\n",
       "<tr>\n",
       "  <th>Genres_Shopping</th>                              <td>    1.8251</td> <td>    0.131</td> <td>   13.978</td> <td> 0.000</td> <td>    1.569</td> <td>    2.081</td>\n",
       "</tr>\n",
       "<tr>\n",
       "  <th>Genres_Simulation</th>                            <td>    0.2404</td> <td>    0.087</td> <td>    2.772</td> <td> 0.006</td> <td>    0.070</td> <td>    0.410</td>\n",
       "</tr>\n",
       "<tr>\n",
       "  <th>Genres_Simulation_Action_&_Adventure</th>         <td>    0.4559</td> <td>    0.201</td> <td>    2.269</td> <td> 0.023</td> <td>    0.062</td> <td>    0.850</td>\n",
       "</tr>\n",
       "<tr>\n",
       "  <th>Genres_Simulation_Education</th>                  <td>    0.3584</td> <td>    0.354</td> <td>    1.012</td> <td> 0.312</td> <td>   -0.336</td> <td>    1.053</td>\n",
       "</tr>\n",
       "<tr>\n",
       "  <th>Genres_Simulation_Pretend_Play</th>               <td>    0.2255</td> <td>    0.256</td> <td>    0.880</td> <td> 0.379</td> <td>   -0.277</td> <td>    0.728</td>\n",
       "</tr>\n",
       "<tr>\n",
       "  <th>Genres_Social</th>                                <td>    1.8303</td> <td>    0.130</td> <td>   14.041</td> <td> 0.000</td> <td>    1.575</td> <td>    2.086</td>\n",
       "</tr>\n",
       "<tr>\n",
       "  <th>Genres_Sports</th>                                <td>    0.1721</td> <td>    0.285</td> <td>    0.605</td> <td> 0.545</td> <td>   -0.386</td> <td>    0.730</td>\n",
       "</tr>\n",
       "<tr>\n",
       "  <th>Genres_Sports_Action_&_Adventure</th>             <td>    0.2521</td> <td>    0.257</td> <td>    0.982</td> <td> 0.326</td> <td>   -0.251</td> <td>    0.755</td>\n",
       "</tr>\n",
       "<tr>\n",
       "  <th>Genres_Strategy</th>                              <td>    0.1105</td> <td>    0.099</td> <td>    1.118</td> <td> 0.263</td> <td>   -0.083</td> <td>    0.304</td>\n",
       "</tr>\n",
       "<tr>\n",
       "  <th>Genres_Strategy_Action_&_Adventure</th>           <td>    0.6945</td> <td>    0.495</td> <td>    1.404</td> <td> 0.160</td> <td>   -0.275</td> <td>    1.664</td>\n",
       "</tr>\n",
       "<tr>\n",
       "  <th>Genres_Strategy_Creativity</th>                   <td>    0.1789</td> <td>    0.495</td> <td>    0.361</td> <td> 0.718</td> <td>   -0.791</td> <td>    1.149</td>\n",
       "</tr>\n",
       "<tr>\n",
       "  <th>Genres_Strategy_Education</th>                    <td>    0.8518</td> <td>    0.495</td> <td>    1.722</td> <td> 0.085</td> <td>   -0.118</td> <td>    1.821</td>\n",
       "</tr>\n",
       "<tr>\n",
       "  <th>Genres_Tools</th>                                 <td>    1.1148</td> <td>    0.185</td> <td>    6.036</td> <td> 0.000</td> <td>    0.753</td> <td>    1.477</td>\n",
       "</tr>\n",
       "<tr>\n",
       "  <th>Genres_Tools_Education</th>                       <td>    1.3159</td> <td>    0.337</td> <td>    3.906</td> <td> 0.000</td> <td>    0.656</td> <td>    1.976</td>\n",
       "</tr>\n",
       "<tr>\n",
       "  <th>Genres_Travel_&_Local</th>                        <td>    1.1435</td> <td>    0.186</td> <td>    6.145</td> <td> 0.000</td> <td>    0.779</td> <td>    1.508</td>\n",
       "</tr>\n",
       "<tr>\n",
       "  <th>Genres_Travel_&_Local_Action_&_Adventure</th>     <td>    1.2712</td> <td>    0.337</td> <td>    3.772</td> <td> 0.000</td> <td>    0.611</td> <td>    1.932</td>\n",
       "</tr>\n",
       "<tr>\n",
       "  <th>Genres_Trivia</th>                                <td>   -0.0299</td> <td>    0.121</td> <td>   -0.248</td> <td> 0.804</td> <td>   -0.267</td> <td>    0.207</td>\n",
       "</tr>\n",
       "<tr>\n",
       "  <th>Genres_Video_Players_&_Editors</th>               <td>    0.1675</td> <td>    0.497</td> <td>    0.337</td> <td> 0.736</td> <td>   -0.807</td> <td>    1.142</td>\n",
       "</tr>\n",
       "<tr>\n",
       "  <th>Genres_Video_Players_&_Editors_Creativity</th>    <td>    0.0479</td> <td>    0.430</td> <td>    0.111</td> <td> 0.911</td> <td>   -0.796</td> <td>    0.891</td>\n",
       "</tr>\n",
       "<tr>\n",
       "  <th>Genres_Video_Players_&_Editors_Music_&_Video</th> <td>    0.1238</td> <td>    0.431</td> <td>    0.287</td> <td> 0.774</td> <td>   -0.721</td> <td>    0.968</td>\n",
       "</tr>\n",
       "<tr>\n",
       "  <th>Genres_Weather</th>                               <td>    1.8254</td> <td>    0.133</td> <td>   13.723</td> <td> 0.000</td> <td>    1.565</td> <td>    2.086</td>\n",
       "</tr>\n",
       "<tr>\n",
       "  <th>Genres_Word</th>                                  <td>    0.1702</td> <td>    0.112</td> <td>    1.515</td> <td> 0.130</td> <td>   -0.050</td> <td>    0.391</td>\n",
       "</tr>\n",
       "</table>\n",
       "<table class=\"simpletable\">\n",
       "<tr>\n",
       "  <th>Omnibus:</th>       <td>2391.320</td> <th>  Durbin-Watson:     </th> <td>   1.989</td> \n",
       "</tr>\n",
       "<tr>\n",
       "  <th>Prob(Omnibus):</th>  <td> 0.000</td>  <th>  Jarque-Bera (JB):  </th> <td>14867.661</td>\n",
       "</tr>\n",
       "<tr>\n",
       "  <th>Skew:</th>           <td>-1.717</td>  <th>  Prob(JB):          </th> <td>    0.00</td> \n",
       "</tr>\n",
       "<tr>\n",
       "  <th>Kurtosis:</th>       <td> 9.755</td>  <th>  Cond. No.          </th> <td>1.35e+20</td> \n",
       "</tr>\n",
       "</table><br/><br/>Notes:<br/>[1] R² is computed without centering (uncentered) since the model does not contain a constant.<br/>[2] Standard Errors assume that the covariance matrix of the errors is correctly specified.<br/>[3] The smallest eigenvalue is 2.88e-28. This might indicate that there are<br/>strong multicollinearity problems or that the design matrix is singular."
      ],
      "text/plain": [
       "<class 'statsmodels.iolib.summary.Summary'>\n",
       "\"\"\"\n",
       "                                 OLS Regression Results                                \n",
       "=======================================================================================\n",
       "Dep. Variable:                 Rating   R-squared (uncentered):                   0.987\n",
       "Model:                            OLS   Adj. R-squared (uncentered):              0.987\n",
       "Method:                 Least Squares   F-statistic:                              3679.\n",
       "Date:                Sat, 03 Sep 2022   Prob (F-statistic):                        0.00\n",
       "Time:                        19:36:20   Log-Likelihood:                         -4300.9\n",
       "No. Observations:                6215   AIC:                                      8850.\n",
       "Df Residuals:                    6091   BIC:                                      9685.\n",
       "Df Model:                         124                                                  \n",
       "Covariance Type:            nonrobust                                                  \n",
       "================================================================================================================\n",
       "                                                   coef    std err          t      P>|t|      [0.025      0.975]\n",
       "----------------------------------------------------------------------------------------------------------------\n",
       "Reviews                                          0.1636      0.006     26.026      0.000       0.151       0.176\n",
       "Size                                         -4.403e-07   3.63e-07     -1.212      0.226   -1.15e-06    2.72e-07\n",
       "Installs                                        -0.1372      0.006    -21.869      0.000      -0.149      -0.125\n",
       "Price                                           -0.0034      0.004     -0.930      0.352      -0.011       0.004\n",
       "Category_AUTO_AND_VEHICLES                       1.8292      0.134     13.689      0.000       1.567       2.091\n",
       "Category_BEAUTY                                  1.9395      0.136     14.299      0.000       1.674       2.205\n",
       "Category_BOOKS_AND_REFERENCE                     1.9065      0.131     14.576      0.000       1.650       2.163\n",
       "Category_BUSINESS                                1.8217      0.130     14.020      0.000       1.567       2.076\n",
       "Category_COMICS                                  2.6756      0.235     11.385      0.000       2.215       3.136\n",
       "Category_COMMUNICATION                           1.7825      0.130     13.683      0.000       1.527       2.038\n",
       "Category_DATING                                  1.7288      0.131     13.153      0.000       1.471       1.986\n",
       "Category_EDUCATION                               3.3087      0.271     12.205      0.000       2.777       3.840\n",
       "Category_ENTERTAINMENT                           3.2196      0.271     11.862      0.000       2.688       3.752\n",
       "Category_EVENTS                                  1.9635      0.136     14.462      0.000       1.697       2.230\n",
       "Category_FAMILY                                  3.3326      0.264     12.604      0.000       2.814       3.851\n",
       "Category_FINANCE                                 1.7992      0.130     13.848      0.000       1.544       2.054\n",
       "Category_FOOD_AND_DRINK                          1.8219      0.132     13.784      0.000       1.563       2.081\n",
       "Category_GAME                                    3.6005      0.260     13.872      0.000       3.092       4.109\n",
       "Category_HEALTH_AND_FITNESS                      1.8515      0.130     14.233      0.000       1.597       2.107\n",
       "Category_HOUSE_AND_HOME                          1.8434      0.133     13.870      0.000       1.583       2.104\n",
       "Category_LIBRARIES_AND_DEMO                      1.8658      0.134     13.919      0.000       1.603       2.129\n",
       "Category_LIFESTYLE                               2.3479      0.237      9.887      0.000       1.882       2.813\n",
       "Category_MAPS_AND_NAVIGATION                     1.7699      0.132     13.442      0.000       1.512       2.028\n",
       "Category_MEDICAL                                 1.8552      0.130     14.282      0.000       1.601       2.110\n",
       "Category_NEWS_AND_MAGAZINES                      1.7645      0.130     13.544      0.000       1.509       2.020\n",
       "Category_PARENTING                               2.8631      0.216     13.240      0.000       2.439       3.287\n",
       "Category_PERSONALIZATION                         1.8904      0.130     14.534      0.000       1.635       2.145\n",
       "Category_PHOTOGRAPHY                             1.8059      0.130     13.863      0.000       1.551       2.061\n",
       "Category_PRODUCTIVITY                            1.8297      0.130     14.070      0.000       1.575       2.085\n",
       "Category_SHOPPING                                1.8251      0.131     13.978      0.000       1.569       2.081\n",
       "Category_SOCIAL                                  1.8303      0.130     14.041      0.000       1.575       2.086\n",
       "Category_SPORTS                                  3.4378      0.384      8.959      0.000       2.686       4.190\n",
       "Category_TOOLS                                   2.4308      0.237     10.256      0.000       1.966       2.895\n",
       "Category_TRAVEL_AND_LOCAL                        2.4147      0.237     10.177      0.000       1.950       2.880\n",
       "Category_VIDEO_PLAYERS                           3.3326      0.555      6.002      0.000       2.244       4.421\n",
       "Category_WEATHER                                 1.8254      0.133     13.723      0.000       1.565       2.086\n",
       "Type_Paid                                       -0.0289      0.033     -0.876      0.381      -0.093       0.036\n",
       "Content_Rating_Everyone                          0.8855      0.257      3.451      0.001       0.383       1.388\n",
       "Content_Rating_Everyone_10+                      0.8484      0.258      3.283      0.001       0.342       1.355\n",
       "Content_Rating_Mature_17+                        0.8570      0.259      3.312      0.001       0.350       1.364\n",
       "Content_Rating_Teen                              0.8948      0.257      3.484      0.000       0.391       1.398\n",
       "Content_Rating_Unrated                           0.8831      0.552      1.600      0.110      -0.199       1.965\n",
       "Genres_Action_Action_&_Adventure                 0.3586      0.168      2.136      0.033       0.029       0.688\n",
       "Genres_Adventure                                -0.0400      0.074     -0.542      0.588      -0.185       0.105\n",
       "Genres_Adventure_Action_&_Adventure              0.2208      0.293      0.753      0.451      -0.354       0.795\n",
       "Genres_Adventure_Brain_Games                     0.5518      0.495      1.114      0.265      -0.419       1.522\n",
       "Genres_Adventure_Education                       0.0764      0.495      0.154      0.877      -0.894       1.047\n",
       "Genres_Arcade                                    0.0448      0.057      0.782      0.434      -0.068       0.157\n",
       "Genres_Arcade_Action_&_Adventure                 0.3325      0.173      1.923      0.054      -0.006       0.671\n",
       "Genres_Arcade_Pretend_Play                   -5.063e-14   2.72e-13     -0.186      0.852   -5.84e-13    4.82e-13\n",
       "Genres_Art_&_Design                              3.9522      0.268     14.739      0.000       3.427       4.478\n",
       "Genres_Art_&_Design_Creativity                   2.8705      0.313      9.167      0.000       2.257       3.484\n",
       "Genres_Art_&_Design_Pretend_Play                 3.6958      0.553      6.685      0.000       2.612       4.780\n",
       "Genres_Auto_&_Vehicles                           1.8292      0.134     13.689      0.000       1.567       2.091\n",
       "Genres_Beauty                                    1.9395      0.136     14.299      0.000       1.674       2.205\n",
       "Genres_Board                                     0.0709      0.102      0.692      0.489      -0.130       0.272\n",
       "Genres_Board_Action_&_Adventure                  0.2352      0.354      0.664      0.507      -0.459       0.930\n",
       "Genres_Board_Brain_Games                         0.4253      0.157      2.716      0.007       0.118       0.732\n",
       "Genres_Board_Pretend_Play                     1.006e-15   7.43e-14      0.014      0.989   -1.45e-13    1.47e-13\n",
       "Genres_Books_&_Reference                         1.9065      0.131     14.576      0.000       1.650       2.163\n",
       "Genres_Books_&_Reference_Education               0.3140      0.354      0.887      0.375      -0.380       1.008\n",
       "Genres_Business                                  1.8217      0.130     14.020      0.000       1.567       2.076\n",
       "Genres_Card                                     -0.0880      0.093     -0.948      0.343      -0.270       0.094\n",
       "Genres_Card_Action_&_Adventure                   0.0955      0.495      0.193      0.847      -0.875       1.066\n",
       "Genres_Card_Brain_Games                          0.7041      0.495      1.424      0.155      -0.265       1.674\n",
       "Genres_Casino                                    0.0775      0.102      0.760      0.447      -0.123       0.278\n",
       "Genres_Casual                                    0.1594      0.084      1.903      0.057      -0.005       0.324\n",
       "Genres_Casual_Action_&_Adventure                 0.2107      0.161      1.307      0.191      -0.105       0.527\n",
       "Genres_Casual_Brain_Games                        0.4832      0.228      2.116      0.034       0.036       0.931\n",
       "Genres_Casual_Creativity                         0.3322      0.228      1.454      0.146      -0.116       0.780\n",
       "Genres_Casual_Education                          0.3836      0.293      1.311      0.190      -0.190       0.957\n",
       "Genres_Casual_Music_&_Video                      0.3759      0.495      0.760      0.447      -0.594       1.346\n",
       "Genres_Casual_Pretend_Play                       0.2208      0.133      1.662      0.097      -0.040       0.481\n",
       "Genres_Comics                                    0.9694      0.188      5.168      0.000       0.602       1.337\n",
       "Genres_Comics_Creativity                         1.7062      0.339      5.034      0.000       1.042       2.371\n",
       "Genres_Communication                             1.7825      0.130     13.683      0.000       1.527       2.038\n",
       "Genres_Communication_Creativity                  0.4540      0.495      0.918      0.359      -0.516       1.424\n",
       "Genres_Dating                                    1.7288      0.131     13.153      0.000       1.471       1.986\n",
       "Genres_Education                                 0.4885      0.084      5.793      0.000       0.323       0.654\n",
       "Genres_Education_Action_&_Adventure              0.7087      0.257      2.757      0.006       0.205       1.213\n",
       "Genres_Education_Brain_Games                     0.3664      0.295      1.241      0.214      -0.212       0.945\n",
       "Genres_Education_Creativity                      0.7572      0.235      3.224      0.001       0.297       1.218\n",
       "Genres_Education_Education                       0.5085      0.117      4.334      0.000       0.278       0.738\n",
       "Genres_Education_Music_&_Video                   0.3273      0.354      0.924      0.355      -0.367       1.021\n",
       "Genres_Education_Pretend_Play                    0.5890      0.146      4.037      0.000       0.303       0.875\n",
       "Genres_Educational                               0.2112      0.123      1.717      0.086      -0.030       0.452\n",
       "Genres_Educational_Action_&_Adventure            0.3513      0.354      0.992      0.321      -0.343       1.046\n",
       "Genres_Educational_Brain_Games                   0.5382      0.214      2.509      0.012       0.118       0.959\n",
       "Genres_Educational_Creativity                    0.1890      0.257      0.736      0.462      -0.314       0.692\n",
       "Genres_Educational_Education                     0.5271      0.121      4.353      0.000       0.290       0.765\n",
       "Genres_Educational_Pretend_Play                  0.4114      0.174      2.371      0.018       0.071       0.752\n",
       "Genres_Entertainment                             0.2748      0.083      3.292      0.001       0.111       0.438\n",
       "Genres_Entertainment_Action_&_Adventure          0.2425      0.495      0.490      0.624      -0.727       1.212\n",
       "Genres_Entertainment_Brain_Games                 0.3907      0.201      1.940      0.052      -0.004       0.786\n",
       "Genres_Entertainment_Creativity                  0.6625      0.294      2.257      0.024       0.087       1.238\n",
       "Genres_Entertainment_Education                   0.6256      0.495      1.265      0.206      -0.344       1.595\n",
       "Genres_Entertainment_Music_&_Video               0.4012      0.137      2.938      0.003       0.133       0.669\n",
       "Genres_Entertainment_Pretend_Play                0.2432      0.495      0.492      0.623      -0.727       1.213\n",
       "Genres_Events                                    1.9635      0.136     14.462      0.000       1.697       2.230\n",
       "Genres_Finance                                   1.7992      0.130     13.848      0.000       1.544       2.054\n",
       "Genres_Food_&_Drink                              1.8219      0.132     13.784      0.000       1.563       2.081\n",
       "Genres_Health_&_Fitness                          1.8515      0.130     14.233      0.000       1.597       2.107\n",
       "Genres_Health_&_Fitness_Action_&_Adventure   -1.696e-14   8.31e-14     -0.204      0.838    -1.8e-13    1.46e-13\n",
       "Genres_Health_&_Fitness_Education                0.5809      0.495      1.174      0.240      -0.389       1.551\n",
       "Genres_House_&_Home                              1.8434      0.133     13.870      0.000       1.583       2.104\n",
       "Genres_Libraries_&_Demo                          1.8658      0.134     13.919      0.000       1.603       2.129\n",
       "Genres_Lifestyle                                 1.2661      0.186      6.824      0.000       0.902       1.630\n",
       "Genres_Lifestyle_Education                       0.3496      0.495      0.707      0.480      -0.620       1.319\n",
       "Genres_Lifestyle_Pretend_Play                    1.0818      0.338      3.203      0.001       0.420       1.744\n",
       "Genres_Maps_&_Navigation                         1.7699      0.132     13.442      0.000       1.512       2.028\n",
       "Genres_Medical                                   1.8552      0.130     14.282      0.000       1.601       2.110\n",
       "Genres_Music                                    -0.1438      0.145     -0.990      0.322      -0.429       0.141\n",
       "Genres_Music_&_Audio_Music_&_Video           -3.194e-14   2.43e-13     -0.132      0.895   -5.08e-13    4.44e-13\n",
       "Genres_Music_Music_&_Video                       0.6057      0.293      2.070      0.038       0.032       1.179\n",
       "Genres_News_&_Magazines                          1.7645      0.130     13.544      0.000       1.509       2.020\n",
       "Genres_Parenting                                 0.9992      0.129      7.718      0.000       0.745       1.253\n",
       "Genres_Parenting_Brain_Games                  2.412e-14   1.58e-13      0.152      0.879   -2.86e-13    3.35e-13\n",
       "Genres_Parenting_Education                       0.6730      0.230      2.920      0.004       0.221       1.125\n",
       "Genres_Parenting_Music_&_Video                   1.1909      0.208      5.733      0.000       0.784       1.598\n",
       "Genres_Personalization                           1.8904      0.130     14.534      0.000       1.635       2.145\n",
       "Genres_Photography                               1.8059      0.130     13.863      0.000       1.551       2.061\n",
       "Genres_Productivity                              1.8297      0.130     14.070      0.000       1.575       2.085\n",
       "Genres_Puzzle                                    0.3473      0.083      4.187      0.000       0.185       0.510\n",
       "Genres_Puzzle_Action_&_Adventure                 0.3445      0.257      1.342      0.180      -0.159       0.848\n",
       "Genres_Puzzle_Brain_Games                        0.4106      0.149      2.764      0.006       0.119       0.702\n",
       "Genres_Puzzle_Creativity                         0.4246      0.354      1.199      0.231      -0.270       1.119\n",
       "Genres_Puzzle_Education                          0.8702      0.495      1.760      0.079      -0.099       1.840\n",
       "Genres_Racing                                   -0.0723      0.075     -0.969      0.333      -0.219       0.074\n",
       "Genres_Racing_Action_&_Adventure                 0.4211      0.153      2.758      0.006       0.122       0.720\n",
       "Genres_Racing_Pretend_Play                       0.9499      0.495      1.919      0.055      -0.020       1.920\n",
       "Genres_Role_Playing                              0.1814      0.090      2.008      0.045       0.004       0.359\n",
       "Genres_Role_Playing_Action_&_Adventure           0.1597      0.232      0.687      0.492      -0.296       0.615\n",
       "Genres_Role_Playing_Brain_Games                       0          0        nan        nan           0           0\n",
       "Genres_Role_Playing_Pretend_Play                 0.2004      0.232      0.862      0.389      -0.255       0.656\n",
       "Genres_Shopping                                  1.8251      0.131     13.978      0.000       1.569       2.081\n",
       "Genres_Simulation                                0.2404      0.087      2.772      0.006       0.070       0.410\n",
       "Genres_Simulation_Action_&_Adventure             0.4559      0.201      2.269      0.023       0.062       0.850\n",
       "Genres_Simulation_Education                      0.3584      0.354      1.012      0.312      -0.336       1.053\n",
       "Genres_Simulation_Pretend_Play                   0.2255      0.256      0.880      0.379      -0.277       0.728\n",
       "Genres_Social                                    1.8303      0.130     14.041      0.000       1.575       2.086\n",
       "Genres_Sports                                    0.1721      0.285      0.605      0.545      -0.386       0.730\n",
       "Genres_Sports_Action_&_Adventure                 0.2521      0.257      0.982      0.326      -0.251       0.755\n",
       "Genres_Strategy                                  0.1105      0.099      1.118      0.263      -0.083       0.304\n",
       "Genres_Strategy_Action_&_Adventure               0.6945      0.495      1.404      0.160      -0.275       1.664\n",
       "Genres_Strategy_Creativity                       0.1789      0.495      0.361      0.718      -0.791       1.149\n",
       "Genres_Strategy_Education                        0.8518      0.495      1.722      0.085      -0.118       1.821\n",
       "Genres_Tools                                     1.1148      0.185      6.036      0.000       0.753       1.477\n",
       "Genres_Tools_Education                           1.3159      0.337      3.906      0.000       0.656       1.976\n",
       "Genres_Travel_&_Local                            1.1435      0.186      6.145      0.000       0.779       1.508\n",
       "Genres_Travel_&_Local_Action_&_Adventure         1.2712      0.337      3.772      0.000       0.611       1.932\n",
       "Genres_Trivia                                   -0.0299      0.121     -0.248      0.804      -0.267       0.207\n",
       "Genres_Video_Players_&_Editors                   0.1675      0.497      0.337      0.736      -0.807       1.142\n",
       "Genres_Video_Players_&_Editors_Creativity        0.0479      0.430      0.111      0.911      -0.796       0.891\n",
       "Genres_Video_Players_&_Editors_Music_&_Video     0.1238      0.431      0.287      0.774      -0.721       0.968\n",
       "Genres_Weather                                   1.8254      0.133     13.723      0.000       1.565       2.086\n",
       "Genres_Word                                      0.1702      0.112      1.515      0.130      -0.050       0.391\n",
       "==============================================================================\n",
       "Omnibus:                     2391.320   Durbin-Watson:                   1.989\n",
       "Prob(Omnibus):                  0.000   Jarque-Bera (JB):            14867.661\n",
       "Skew:                          -1.717   Prob(JB):                         0.00\n",
       "Kurtosis:                       9.755   Cond. No.                     1.35e+20\n",
       "==============================================================================\n",
       "\n",
       "Notes:\n",
       "[1] R² is computed without centering (uncentered) since the model does not contain a constant.\n",
       "[2] Standard Errors assume that the covariance matrix of the errors is correctly specified.\n",
       "[3] The smallest eigenvalue is 2.88e-28. This might indicate that there are\n",
       "strong multicollinearity problems or that the design matrix is singular.\n",
       "\"\"\""
      ]
     },
     "execution_count": 84,
     "metadata": {},
     "output_type": "execute_result"
    }
   ],
   "source": [
    "#Finding the summary\n",
    "model2.summary()"
   ]
  }
 ],
 "metadata": {
  "kernelspec": {
   "display_name": "Python 3 (ipykernel)",
   "language": "python",
   "name": "python3"
  },
  "language_info": {
   "codemirror_mode": {
    "name": "ipython",
    "version": 3
   },
   "file_extension": ".py",
   "mimetype": "text/x-python",
   "name": "python",
   "nbconvert_exporter": "python",
   "pygments_lexer": "ipython3",
   "version": "3.9.12"
  }
 },
 "nbformat": 4,
 "nbformat_minor": 5
}
